{
  "cells": [
    {
      "cell_type": "markdown",
      "metadata": {
        "id": "Ge1BIVjri4ha"
      },
      "source": [
        "# 1. Problem Statement"
      ]
    },
    {
      "cell_type": "markdown",
      "metadata": {
        "id": "1NXMfKEalboZ"
      },
      "source": [
        "## 1.1 Project Title"
      ]
    },
    {
      "cell_type": "markdown",
      "metadata": {},
      "source": [
        "Understanding Customer Sentiment and QnA over Amazon Product Reviews"
      ]
    },
    {
      "cell_type": "markdown",
      "metadata": {},
      "source": [
        "## 1.2 Project Problem Statement"
      ]
    },
    {
      "cell_type": "markdown",
      "metadata": {},
      "source": [
        "With the exponential growth of e-commerce platforms like Amazon, users face information overload when trying to evaluate products based on thousands of customer reviews. These reviews are often redundant, lengthy, and inconsistent in tone, making it difficult for prospective buyers to get a clear and quick understanding of a product's strengths and weaknesses."
      ]
    },
    {
      "cell_type": "markdown",
      "metadata": {},
      "source": [
        "## 1.3 Proposed Approach"
      ]
    },
    {
      "cell_type": "markdown",
      "metadata": {},
      "source": [
        "We believe an automated sentiment classification and summarization pipeline that:\n",
        "\n",
        "\n",
        "1. Classifies customer reviews as positive or negative using a fine-tuned transformer-based sentiment classifier.\n",
        "\n",
        "\n",
        "2. Aggregates sentiment per product, identifying the distribution of customer experiences.\n",
        "\n",
        "\n",
        "3. Extracts the most helpful reviews, based on user helpfulness votes, to provide qualitative context.\n",
        "\n",
        "\n",
        "4. Generates a concise 1–2 sentence summary per product using a Large Language Model, summarizing key strengths, major issues, and an overall recommendation that would help users and business owners understand the sentiment of the product.\n",
        "\n",
        "\n",
        "5. And dive even deeper by generating sentence summary per product on each topic using a LLM to summarize key points per topic, will help create a chatbot both business owners and users can use to query important questions that can be answered based of the reviews.\n",
        "\n",
        "\n",
        "Would help solve our problem.\n"
      ]
    },
    {
      "cell_type": "markdown",
      "metadata": {
        "id": "fqrkLqlOi9sm"
      },
      "source": [
        "# 2. Data Understanding (EDA)"
      ]
    },
    {
      "cell_type": "code",
      "execution_count": 4,
      "metadata": {
        "id": "D5x_6mmZmFx2"
      },
      "outputs": [],
      "source": [
        "import pandas as pd\n",
        "import numpy as np"
      ]
    },
    {
      "cell_type": "code",
      "execution_count": null,
      "metadata": {
        "colab": {
          "base_uri": "https://localhost:8080/"
        },
        "id": "MRgQrrjmnzen",
        "outputId": "85440b01-d884-4596-b431-b73a6a15277d"
      },
      "outputs": [
        {
          "name": "stderr",
          "output_type": "stream",
          "text": [
            "/tmp/ipython-input-28-3579109737.py:13: DtypeWarning: Columns (1) have mixed types. Specify dtype option on import or set low_memory=False.\n",
            "  df2 = pd.read_csv(fn2, usecols=cols)\n"
          ]
        }
      ],
      "source": [
        "\n",
        "# Replace paths with your exact locations if needed\n",
        "fn1 = \"Datafiniti_Amazon_Consumer_Reviews_of_Amazon_Products_May19.csv\"\n",
        "fn2 = \"1429_1.csv\"\n",
        "fn3 = \"Datafiniti_Amazon_Consumer_Reviews_of_Amazon_Products.csv\"\n",
        "\n",
        "cols = ['asins', 'reviews.rating', 'name', 'brand', 'categories',\n",
        "       'reviews.text', 'reviews.title', 'reviews.username', 'reviews.numHelpful']\n",
        "\n",
        "# Load each, ignoring other columns\n",
        "df1 = pd.read_csv(fn1, usecols=cols)\n",
        "df2 = pd.read_csv(fn2, usecols=cols)\n",
        "df3 = pd.read_csv(fn3, usecols=cols)\n",
        "\n",
        "df = pd.concat([df1, df2, df3], ignore_index=True)\n",
        "df.to_csv(\"amazon_reviews.csv\", index=False)"
      ]
    },
    {
      "cell_type": "code",
      "execution_count": 5,
      "metadata": {
        "id": "LMAB1F50MxI-"
      },
      "outputs": [],
      "source": [
        "###Import Data\n",
        "### Note:  Data is in the zip. Extract it to the folder data\n",
        "review_df=pd.read_csv(\"amazon_reviews.csv\")"
      ]
    },
    {
      "cell_type": "code",
      "execution_count": 30,
      "metadata": {
        "colab": {
          "base_uri": "https://localhost:8080/"
        },
        "id": "VTrOeVROnn4H",
        "outputId": "7e5e6472-88a6-4db2-f905-08bd8a98bbfe"
      },
      "outputs": [
        {
          "data": {
            "text/plain": [
              "Index(['name', 'asins', 'brand', 'categories', 'reviews.numHelpful',\n",
              "       'reviews.rating', 'reviews.text', 'reviews.title', 'reviews.username'],\n",
              "      dtype='object')"
            ]
          },
          "execution_count": 30,
          "metadata": {},
          "output_type": "execute_result"
        }
      ],
      "source": [
        "review_df.columns"
      ]
    },
    {
      "cell_type": "markdown",
      "metadata": {
        "id": "Qk-2otyunbPM"
      },
      "source": [
        "## 2.1 Exploring Missing Values and Duplicates"
      ]
    },
    {
      "cell_type": "markdown",
      "metadata": {},
      "source": [
        "Code to see missing percentages per column"
      ]
    },
    {
      "cell_type": "code",
      "execution_count": 16,
      "metadata": {},
      "outputs": [
        {
          "name": "stdout",
          "output_type": "stream",
          "text": [
            "Missing Value Summary:\n",
            "                    Missing Count  Missing %\n",
            "reviews.numHelpful          12746      18.75\n",
            "name                         6760       9.94\n",
            "reviews.rating                 33       0.05\n",
            "reviews.title                  19       0.03\n",
            "reviews.username               13       0.02\n",
            "asins                           2       0.00\n",
            "reviews.text                    1       0.00\n",
            "brand                           0       0.00\n",
            "categories                      0       0.00\n"
          ]
        }
      ],
      "source": [
        "# Calculate missing values and percentages\n",
        "missing_summary = review_df.isnull().sum().sort_values(ascending=False)\n",
        "missing_percentage = (missing_summary / len(review_df)) * 100\n",
        "\n",
        "# Combine into a summary DataFrame\n",
        "missing_df = pd.DataFrame({\n",
        "    'Missing Count': missing_summary,\n",
        "    'Missing %': missing_percentage.round(2)\n",
        "})\n",
        "\n",
        "print(\"Missing Value Summary:\")\n",
        "print(missing_df)\n"
      ]
    },
    {
      "cell_type": "markdown",
      "metadata": {},
      "source": [
        "Lets see if there are duplicate reviews, review titles, users name, and product name combinations"
      ]
    },
    {
      "cell_type": "code",
      "execution_count": 20,
      "metadata": {},
      "outputs": [
        {
          "name": "stdout",
          "output_type": "stream",
          "text": [
            "Total duplicate reviews (by text): 30851\n",
            " Example duplicate reviews:\n",
            "                                                 name  \\\n",
            "1   AmazonBasics AAA Performance Alkaline Batterie...   \n",
            "6   AmazonBasics AAA Performance Alkaline Batterie...   \n",
            "7   AmazonBasics AAA Performance Alkaline Batterie...   \n",
            "13  AmazonBasics AAA Performance Alkaline Batterie...   \n",
            "14  AmazonBasics AAA Performance Alkaline Batterie...   \n",
            "\n",
            "                                         reviews.text  \n",
            "1   Bulk is always the less expensive way to go fo...  \n",
            "6   ive not had any problame with these batteries ...  \n",
            "7   Well if you are looking for cheap non-recharge...  \n",
            "13  just got em so I can't really comment on how g...  \n",
            "14  we have many things that need aa battery they ...  \n",
            " Duplicate reviews based on title + text: 30485\n",
            " Duplicate reviews based on title + text + username + name of product: 5159\n"
          ]
        }
      ],
      "source": [
        "# Count duplicate reviews based on review text\n",
        "duplicate_counts = review_df.duplicated(subset=[\"reviews.text\"], keep=False).sum()\n",
        "\n",
        "print(f\"Total duplicate reviews (by text): {duplicate_counts}\")\n",
        "# Show actual duplicate rows\n",
        "duplicates = review_df[review_df.duplicated(subset=[\"reviews.text\"], keep=False)]\n",
        "print(\" Example duplicate reviews:\")\n",
        "print(duplicates[[\"name\", \"reviews.text\"]].head())\n",
        "\n",
        "# Show duplicate reviews based on title + text\n",
        "duplicate_combo = review_df.duplicated(subset=[\"reviews.title\", \"reviews.text\"], keep=False).sum()\n",
        "print(f\" Duplicate reviews based on title + text: {duplicate_combo}\")\n",
        "\n",
        "#Show duplicate reviews based on title + text + username\n",
        "duplicate_combo_users = review_df.duplicated(subset=[\"reviews.title\", \"reviews.text\", \"reviews.username\", \"name\"], keep=False).sum()   \n",
        "print(f\" Duplicate reviews based on title + text + username + name of product: {duplicate_combo_users}\")\n"
      ]
    },
    {
      "cell_type": "markdown",
      "metadata": {},
      "source": [
        "We see that there are some missing values mainly in reviews.numhelpful, we could fix this by filling for nan values to be 0 here so basically number of people that found that review helpful can be 0. We also see around 5159 reviews + review titles + user names that are duplicates. These can be removed as they are duplicated reviews by the same users on same products."
      ]
    },
    {
      "cell_type": "markdown",
      "metadata": {},
      "source": [
        "## 2.2 Products with most reviews"
      ]
    },
    {
      "cell_type": "code",
      "execution_count": 22,
      "metadata": {},
      "outputs": [
        {
          "name": "stdout",
          "output_type": "stream",
          "text": [
            "Top products by number of reviews:\n",
            "                                        product_name  review_count\n",
            "0  Fire Tablet, 7 Display, Wi-Fi, 8 GB - Includes...         10966\n",
            "1  AmazonBasics AAA Performance Alkaline Batterie...          8343\n",
            "2  AmazonBasics AA Performance Alkaline Batteries...          3728\n",
            "3                 Echo (White),,,\\r\\nEcho (White),,,          3309\n",
            "4  Amazon Kindle Paperwhite - eBook reader - 4 GB...          3176\n",
            "5  Fire Kids Edition Tablet, 7 Display, Wi-Fi, 16...          3114\n",
            "6  All-New Fire HD 8 Tablet, 8 HD Display, Wi-Fi,...          2814\n",
            "7             Amazon Fire Tv,,,\\r\\nAmazon Fire Tv,,,          2527\n",
            "8  Fire HD 8 Tablet with Alexa, 8 HD Display, 16 ...          2443\n",
            "9  All-New Fire HD 8 Tablet, 8 HD Display, Wi-Fi,...          2370\n"
          ]
        }
      ],
      "source": [
        "# Count number of reviews per product\n",
        "product_review_counts = review_df[\"name\"].value_counts()\n",
        "\n",
        "# Convert to DataFrame for easier analysis\n",
        "top_products = product_review_counts.reset_index()\n",
        "top_products.columns = [\"product_name\", \"review_count\"]\n",
        "\n",
        "print(\"Top products by number of reviews:\")\n",
        "print(top_products.head(10))\n"
      ]
    },
    {
      "cell_type": "code",
      "execution_count": 23,
      "metadata": {},
      "outputs": [
        {
          "name": "stderr",
          "output_type": "stream",
          "text": [
            "/var/folders/vh/s_41kfjx7cngccx9ch_mcx3w0000gn/T/ipykernel_90735/1342745291.py:5: FutureWarning: \n",
            "\n",
            "Passing `palette` without assigning `hue` is deprecated and will be removed in v0.14.0. Assign the `y` variable to `hue` and set `legend=False` for the same effect.\n",
            "\n",
            "  sns.barplot(data=top_products.head(10), x=\"review_count\", y=\"product_name\", palette=\"crest\")\n",
            ") missing from font(s) DejaVu Sans.mcx3w0000gn/T/ipykernel_90735/1342745291.py:9: UserWarning: Glyph 13 (\n",
            "  plt.tight_layout()\n",
            ") missing from font(s) DejaVu Sans.0-env/lib/python3.10/site-packages/IPython/core/pylabtools.py:170: UserWarning: Glyph 13 (\n",
            "  fig.canvas.print_figure(bytes_io, **kw)\n"
          ]
        },
        {
          "data": {
            "image/png": "[encoded data removed]",
            "text/plain": [
              "<Figure size 1200x600 with 1 Axes>"
            ]
          },
          "metadata": {},
          "output_type": "display_data"
        }
      ],
      "source": [
        "import matplotlib.pyplot as plt\n",
        "import seaborn as sns\n",
        "\n",
        "plt.figure(figsize=(12, 6))\n",
        "sns.barplot(data=top_products.head(10), x=\"review_count\", y=\"product_name\", palette=\"crest\")\n",
        "plt.title(\"Top 10 Products by Number of Reviews\")\n",
        "plt.xlabel(\"Number of Reviews\")\n",
        "plt.ylabel(\"Product Name\")\n",
        "plt.tight_layout()\n",
        "plt.show()\n"
      ]
    },
    {
      "cell_type": "markdown",
      "metadata": {},
      "source": [
        "## 2.3 Products with most negative and positive reviews"
      ]
    },
    {
      "cell_type": "markdown",
      "metadata": {},
      "source": [
        "### 2.3.1 Positive"
      ]
    },
    {
      "cell_type": "code",
      "execution_count": 26,
      "metadata": {},
      "outputs": [
        {
          "name": "stdout",
          "output_type": "stream",
          "text": [
            " Top products with most positive reviews:\n",
            "                                        product_name  positive_review_count\n",
            "0  Fire Tablet, 7 Display, Wi-Fi, 8 GB - Includes...                   9938\n",
            "1  AmazonBasics AAA Performance Alkaline Batterie...                   7181\n",
            "2  AmazonBasics AA Performance Alkaline Batteries...                   3210\n",
            "3                 Echo (White),,,\\r\\nEcho (White),,,                   3126\n",
            "4  Amazon Kindle Paperwhite - eBook reader - 4 GB...                   3079\n",
            "5  Fire Kids Edition Tablet, 7 Display, Wi-Fi, 16...                   2836\n",
            "6  All-New Fire HD 8 Tablet, 8 HD Display, Wi-Fi,...                   2667\n",
            "7             Amazon Fire Tv,,,\\r\\nAmazon Fire Tv,,,                   2397\n",
            "8  Fire HD 8 Tablet with Alexa, 8 HD Display, 16 ...                   2325\n",
            "9  All-New Fire HD 8 Tablet, 8 HD Display, Wi-Fi,...                   2243\n"
          ]
        }
      ],
      "source": [
        "# Filter reviews with rating > 3 (positive sentiment)\n",
        "positive_reviews = review_df[review_df[\"reviews.rating\"] > 3]\n",
        "# Count number of positive reviews per product\n",
        "positive_counts = positive_reviews[\"name\"].value_counts().reset_index()\n",
        "positive_counts.columns = [\"product_name\", \"positive_review_count\"]\n",
        "\n",
        "print(\" Top products with most positive reviews:\")\n",
        "print(positive_counts.head(10))\n"
      ]
    },
    {
      "cell_type": "code",
      "execution_count": 25,
      "metadata": {},
      "outputs": [
        {
          "name": "stderr",
          "output_type": "stream",
          "text": [
            "/var/folders/vh/s_41kfjx7cngccx9ch_mcx3w0000gn/T/ipykernel_90735/3651887129.py:5: FutureWarning: \n",
            "\n",
            "Passing `palette` without assigning `hue` is deprecated and will be removed in v0.14.0. Assign the `y` variable to `hue` and set `legend=False` for the same effect.\n",
            "\n",
            "  sns.barplot(data=positive_counts.head(10), x=\"positive_review_count\", y=\"product_name\", palette=\"Greens\")\n",
            ") missing from font(s) DejaVu Sans.mcx3w0000gn/T/ipykernel_90735/3651887129.py:9: UserWarning: Glyph 13 (\n",
            "  plt.tight_layout()\n",
            ") missing from font(s) DejaVu Sans.0-env/lib/python3.10/site-packages/IPython/core/pylabtools.py:170: UserWarning: Glyph 13 (\n",
            "  fig.canvas.print_figure(bytes_io, **kw)\n"
          ]
        },
        {
          "data": {
            "image/png": "[encoded data removed]",
            "text/plain": [
              "<Figure size 1200x600 with 1 Axes>"
            ]
          },
          "metadata": {},
          "output_type": "display_data"
        }
      ],
      "source": [
        "import seaborn as sns\n",
        "import matplotlib.pyplot as plt\n",
        "\n",
        "plt.figure(figsize=(12, 6))\n",
        "sns.barplot(data=positive_counts.head(10), x=\"positive_review_count\", y=\"product_name\", palette=\"Greens\")\n",
        "plt.title(\"Top 10 Products by Positive Reviews (Rating > 3)\")\n",
        "plt.xlabel(\"Positive Review Count\")\n",
        "plt.ylabel(\"Product Name\")\n",
        "plt.tight_layout()\n",
        "plt.show()\n"
      ]
    },
    {
      "cell_type": "markdown",
      "metadata": {},
      "source": [
        "### 2.3.2 Negative Reviews"
      ]
    },
    {
      "cell_type": "code",
      "execution_count": 28,
      "metadata": {},
      "outputs": [
        {
          "name": "stdout",
          "output_type": "stream",
          "text": [
            "Top products with most negative reviews (rating ≤ 3):\n",
            "                                        product_name  negative_review_count\n",
            "0  AmazonBasics AAA Performance Alkaline Batterie...                   1162\n",
            "1  Fire Tablet, 7 Display, Wi-Fi, 8 GB - Includes...                   1024\n",
            "2  AmazonBasics AA Performance Alkaline Batteries...                    518\n",
            "3  Fire Kids Edition Tablet, 7 Display, Wi-Fi, 16...                    278\n",
            "4                 Echo (White),,,\\r\\nEcho (White),,,                    183\n",
            "5  Fire Kids Edition Tablet, 7 Display, Wi-Fi, 16...                    160\n",
            "6  All-New Fire HD 8 Tablet, 8 HD Display, Wi-Fi,...                    147\n",
            "7  Fire Kids Edition Tablet, 7 Display, Wi-Fi, 16...                    147\n",
            "8             Amazon Fire Tv,,,\\r\\nAmazon Fire Tv,,,                    130\n",
            "9  All-New Fire HD 8 Tablet, 8 HD Display, Wi-Fi,...                    127\n"
          ]
        }
      ],
      "source": [
        "# Filter reviews with rating <= 2 (negative sentiment)\n",
        "negative_reviews = review_df[review_df[\"reviews.rating\"] <= 3]\n",
        "# Count number of negative reviews per product\n",
        "negative_counts = negative_reviews[\"name\"].value_counts().reset_index()\n",
        "negative_counts.columns = [\"product_name\", \"negative_review_count\"]\n",
        "\n",
        "print(\"Top products with most negative reviews (rating ≤ 3):\")\n",
        "print(negative_counts.head(10))\n"
      ]
    },
    {
      "cell_type": "code",
      "execution_count": 29,
      "metadata": {},
      "outputs": [
        {
          "name": "stderr",
          "output_type": "stream",
          "text": [
            "/var/folders/vh/s_41kfjx7cngccx9ch_mcx3w0000gn/T/ipykernel_90735/2135048444.py:5: FutureWarning: \n",
            "\n",
            "Passing `palette` without assigning `hue` is deprecated and will be removed in v0.14.0. Assign the `y` variable to `hue` and set `legend=False` for the same effect.\n",
            "\n",
            "  sns.barplot(data=negative_counts.head(10), x=\"negative_review_count\", y=\"product_name\", palette=\"Reds\")\n",
            ") missing from font(s) DejaVu Sans.mcx3w0000gn/T/ipykernel_90735/2135048444.py:9: UserWarning: Glyph 13 (\n",
            "  plt.tight_layout()\n",
            ") missing from font(s) DejaVu Sans.0-env/lib/python3.10/site-packages/IPython/core/pylabtools.py:170: UserWarning: Glyph 13 (\n",
            "  fig.canvas.print_figure(bytes_io, **kw)\n"
          ]
        },
        {
          "data": {
            "image/png": "[encoded data removed]",
            "text/plain": [
              "<Figure size 1200x600 with 1 Axes>"
            ]
          },
          "metadata": {},
          "output_type": "display_data"
        }
      ],
      "source": [
        "import seaborn as sns\n",
        "import matplotlib.pyplot as plt\n",
        "\n",
        "plt.figure(figsize=(12, 6))\n",
        "sns.barplot(data=negative_counts.head(10), x=\"negative_review_count\", y=\"product_name\", palette=\"Reds\")\n",
        "plt.title(\"Top 10 Products by Negative Reviews (Rating ≤ 3)\")\n",
        "plt.xlabel(\"Negative Review Count\")\n",
        "plt.ylabel(\"Product Name\")\n",
        "plt.tight_layout()\n",
        "plt.show()\n"
      ]
    },
    {
      "cell_type": "markdown",
      "metadata": {},
      "source": [
        "## 2.4 "
      ]
    },
    {
      "cell_type": "markdown",
      "metadata": {
        "id": "oSb52GX_rpfj"
      },
      "source": [
        "# 3. Data Preperation and Feature Engineering"
      ]
    },
    {
      "cell_type": "markdown",
      "metadata": {
        "id": "IJUKlN09r3qf"
      },
      "source": [
        "## 3.1 Making dataframes for different kind of models"
      ]
    },
    {
      "cell_type": "code",
      "execution_count": 31,
      "metadata": {
        "id": "sVOuAUkjv1Et"
      },
      "outputs": [],
      "source": [
        "df1 = review_df[['asins', 'reviews.rating', 'name', 'brand', 'categories',\n",
        "       'reviews.text', 'reviews.title', 'reviews.username']]\n",
        "df2 = review_df[[\"name\", \"reviews.rating\", \"reviews.text\", \"reviews.numHelpful\"]]"
      ]
    },
    {
      "cell_type": "markdown",
      "metadata": {
        "id": "yfQ7K8x7w1r1"
      },
      "source": [
        "## 3.2  Data Preperation and Feature Engineering for 1st DF"
      ]
    },
    {
      "cell_type": "markdown",
      "metadata": {},
      "source": [
        "### 3.2.1 removing null values in this df"
      ]
    },
    {
      "cell_type": "code",
      "execution_count": 32,
      "metadata": {
        "id": "EqG2O66cw1R2"
      },
      "outputs": [],
      "source": [
        "review_df_cleaned=df1[~df1['reviews.text'].isnull()].copy()"
      ]
    },
    {
      "cell_type": "markdown",
      "metadata": {},
      "source": [
        "### 3.2.2 Removing reviews that are too long"
      ]
    },
    {
      "cell_type": "code",
      "execution_count": null,
      "metadata": {
        "id": "OlEB1x7JxGBr"
      },
      "outputs": [],
      "source": [
        "#Removed reviews with more than > 400 words  due to token limitation of Sentence Transformers and computing\n",
        "review_df_cleaned['token_count'] = review_df_cleaned['reviews.text'].apply(lambda x: len(x.split()))\n",
        "review_df_cleaned=review_df_cleaned[review_df_cleaned['token_count']<=400]"
      ]
    },
    {
      "cell_type": "markdown",
      "metadata": {},
      "source": [
        "### 3.2.3 Creating review_sentiment column, review ratings that are above 3 are True and rest are False"
      ]
    },
    {
      "cell_type": "code",
      "execution_count": 33,
      "metadata": {
        "id": "M4o-DHtBHgDl"
      },
      "outputs": [],
      "source": [
        "review_df_cleaned['review_sentiment']=review_df_cleaned['reviews.rating']>3"
      ]
    },
    {
      "cell_type": "markdown",
      "metadata": {},
      "source": [
        "### 3.2.4 Removing the duplicates we found through EDA"
      ]
    },
    {
      "cell_type": "code",
      "execution_count": null,
      "metadata": {},
      "outputs": [],
      "source": [
        "review_df_cleaned = review_df_cleaned.drop_duplicates(\n",
        "    subset=[\"reviews.title\", \"reviews.text\", \"reviews.username\", \"name\"],\n",
        "    keep=\"first\")"
      ]
    },
    {
      "cell_type": "code",
      "execution_count": 49,
      "metadata": {
        "id": "K_xIEmxMKxz2"
      },
      "outputs": [],
      "source": [
        "docs = review_df_cleaned['reviews.text'].values"
      ]
    },
    {
      "cell_type": "markdown",
      "metadata": {
        "id": "DOIsubd2y1Yf"
      },
      "source": [
        "## 3.3 Data Preperation and Feature Engineering for 2nd DF"
      ]
    },
    {
      "cell_type": "markdown",
      "metadata": {},
      "source": [
        "### 3.3.1 Classify sentiment and handle duplicates"
      ]
    },
    {
      "cell_type": "code",
      "execution_count": null,
      "metadata": {
        "colab": {
          "base_uri": "https://localhost:8080/"
        },
        "id": "2-pdQvnzy54x",
        "outputId": "ccceb804-ec4b-4452-f7c0-a47e62d2c030"
      },
      "outputs": [
        {
          "name": "stderr",
          "output_type": "stream",
          "text": [
            "/tmp/ipython-input-34-2570520918.py:2: SettingWithCopyWarning: \n",
            "A value is trying to be set on a copy of a slice from a DataFrame.\n",
            "Try using .loc[row_indexer,col_indexer] = value instead\n",
            "\n",
            "See the caveats in the documentation: https://pandas.pydata.org/pandas-docs/stable/user_guide/indexing.html#returning-a-view-versus-a-copy\n",
            "  df2[\"sentiment\"] = df2[\"reviews.rating\"].apply(\n"
          ]
        }
      ],
      "source": [
        "# Reclassify using ≤ 3 = negative and ≥ 4 = positive\n",
        "df2[\"sentiment\"] = df2[\"reviews.rating\"].apply(\n",
        "    lambda r: \"negative\" if r <= 3 else \"positive\"\n",
        ")\n",
        "\n",
        "# Drop duplicates based on title, text, username, and product name\n",
        "df2 = df2.drop_duplicates(\n",
        "    subset=[\"reviews.title\", \"reviews.text\", \"reviews.username\", \"name\"],\n",
        "    keep=\"first\")\n",
        "df2.to_csv(\"labeled_reviews.csv\", index=False)\n",
        "\n",
        "# counts before balancing\n",
        "counts_before = df2[\"sentiment\"].value_counts()\n"
      ]
    },
    {
      "cell_type": "markdown",
      "metadata": {
        "id": "pBrtYF9J0E-O"
      },
      "source": [
        "### 3.3.2 Extract the top helpful reviews"
      ]
    },
    {
      "cell_type": "code",
      "execution_count": 35,
      "metadata": {
        "colab": {
          "base_uri": "https://localhost:8080/"
        },
        "id": "9fdrcwHa0KFi",
        "outputId": "6d9de1ea-e4d7-46b2-b040-652922d58cde"
      },
      "outputs": [
        {
          "name": "stdout",
          "output_type": "stream",
          "text": [
            "Sample top helpful reviews:\n",
            "                                                name sentiment  \\\n",
            "0  Fire Tablet, 7 Display, Wi-Fi, 8 GB - Includes...  positive   \n",
            "1  Fire Tablet, 7 Display, Wi-Fi, 8 GB - Includes...  positive   \n",
            "2  Amazon Kindle Lighted Leather Cover,,,\\r\\nAmaz...  negative   \n",
            "3  Fire Tablet, 7 Display, Wi-Fi, 8 GB - Includes...  positive   \n",
            "4  Oem Amazon Kindle Power Usb Adapter Wall Trave...  negative   \n",
            "5  AmazonBasics Bluetooth Keyboard for Android De...  positive   \n",
            "6  Amazon Tap Smart Assistant Alexaenabled (black...  positive   \n",
            "7  Fire Kids Edition Tablet, 7 Display, Wi-Fi, 16...  positive   \n",
            "8  AmazonBasics Bluetooth Keyboard for Android De...  positive   \n",
            "9                 Echo (White),,,\\r\\nEcho (White),,,  negative   \n",
            "\n",
            "   reviews.numHelpful  \n",
            "0               780.0  \n",
            "1               740.0  \n",
            "2               730.0  \n",
            "3               650.0  \n",
            "4               621.0  \n",
            "5               525.0  \n",
            "6               434.0  \n",
            "7               355.0  \n",
            "8               345.0  \n",
            "9               292.0  \n",
            "\n",
            "Counts per sentiment per product (first few):\n",
            "name       All-New Fire 7 Tablet with Alexa, 7\" Display, 8 GB - Marine Blue  \\\n",
            "sentiment                                                                     \n",
            "negative                                                   4                  \n",
            "positive                                                   5                  \n",
            "\n",
            "name       All-New Fire HD 8 Kids Edition Tablet, 8 HD Display, 32 GB, Blue Kid-Proof Case  \\\n",
            "sentiment                                                                                    \n",
            "negative                                                   5                                 \n",
            "positive                                                   5                                 \n",
            "\n",
            "name       All-New Fire HD 8 Kids Edition Tablet, 8 HD Display, 32 GB, Pink Kid-Proof Case  \\\n",
            "sentiment                                                                                    \n",
            "negative                                                   5                                 \n",
            "positive                                                   5                                 \n",
            "\n",
            "name       All-New Fire HD 8 Tablet with Alexa, 8 HD Display, 16 GB, Marine Blue - with Special Offers  \\\n",
            "sentiment                                                                                                \n",
            "negative                                                   5                                             \n",
            "positive                                                   5                                             \n",
            "\n",
            "name       All-New Fire HD 8 Tablet with Alexa, 8 HD Display, 32 GB, Marine Blue - with Special Offers  \n",
            "sentiment                                                                                               \n",
            "negative                                                   5                                            \n",
            "positive                                                   5                                            \n",
            "\n",
            "✅ Top 5 helpful reviews per sentiment per product saved to 'top_helpful_reviews.csv'\n"
          ]
        }
      ],
      "source": [
        "import pandas as pd\n",
        "\n",
        "# Load the labeled dataset\n",
        "df2 = pd.read_csv(\"labeled_reviews.csv\")\n",
        "\n",
        "# Replace NaNs in helpful counts with 0\n",
        "df2[\"reviews.numHelpful\"] = df2[\"reviews.numHelpful\"].fillna(0)\n",
        "\n",
        "# Define how many top reviews to pick per class per product\n",
        "TOP_N = 5\n",
        "\n",
        "# Sort and group to pick\n",
        "top_reviews = (\n",
        "    df2\n",
        "    .sort_values(by=\"reviews.numHelpful\", ascending=False)\n",
        "    .groupby([\"name\", \"sentiment\"])\n",
        "    .head(TOP_N)\n",
        "    .reset_index(drop=True)\n",
        ")\n",
        "\n",
        "# Quick check\n",
        "print(\"Sample top helpful reviews:\")\n",
        "print(top_reviews[[\"name\", \"sentiment\", \"reviews.numHelpful\"]].head(10))\n",
        "print(\"\\nCounts per sentiment per product (first few):\")\n",
        "print(top_reviews.groupby([\"sentiment\", \"name\"]).size().unstack(fill_value=0).iloc[:, :5])\n",
        "\n",
        "# Save for LLM processing\n",
        "top_reviews.to_csv(\"top_helpful_reviews.csv\", index=False)\n",
        "print(f\"\\n✅ Top {TOP_N} helpful reviews per sentiment per product saved to 'top_helpful_reviews.csv'\")"
      ]
    },
    {
      "cell_type": "markdown",
      "metadata": {
        "id": "MbOc2VjA0sf7"
      },
      "source": [
        "# 4. Feature Selection"
      ]
    },
    {
      "cell_type": "markdown",
      "metadata": {},
      "source": [
        "1. asins: These are the product ids for products on Amazon it will be useful to differentiate products from one another\n",
        "\n",
        "2. reviews.rating: These are the ratings of the reviewer, this is useful for us to help train/test our sentiment classification model when run it against the reviews text.\n",
        "\n",
        "3. name: This is to get the name of the product\n",
        "\n",
        "4. brand: For topic modeling if we want to include what brand it is, would be useful.\n",
        "\n",
        "5. categories: Again for topic modeling, when we can try to build a chatbot it would be useful to know the category of the product\n",
        "\n",
        "6. reviews.text: This is the reviews for the product that our models will all consume for training/testing\n",
        "\n",
        "7. reviews.title: This was needed mainly to find duplicate reviews for each product\n",
        "\n",
        "8. reviews.username: This is needed to know if potentially the user has multiple reviews on this product, maybe they can be contradictory, mostly for future use cases.\n",
        "\n",
        "9. reviews.numHelpful: This is required to see how many people have found the review helpful, so when creating summaries for products we can be more accurate and be able to provide a better sentiment classification."
      ]
    },
    {
      "cell_type": "markdown",
      "metadata": {
        "id": "w2fdzyT30__T"
      },
      "source": [
        "# 5. Modeling"
      ]
    },
    {
      "cell_type": "markdown",
      "metadata": {
        "id": "8CvfZcAe1K8F"
      },
      "source": [
        "## 5.1 Generate Text Embeddings (df1)\n"
      ]
    },
    {
      "cell_type": "code",
      "execution_count": 37,
      "metadata": {
        "id": "OrBdxOr41D87"
      },
      "outputs": [],
      "source": [
        "from sentence_transformers import SentenceTransformer\n",
        "model = SentenceTransformer('all-MiniLM-L6-v2')\n",
        "embeddings = model.encode(review_df_cleaned['reviews.text'].values)"
      ]
    },
    {
      "cell_type": "code",
      "execution_count": 38,
      "metadata": {
        "id": "rf-g5mfnHQic"
      },
      "outputs": [],
      "source": [
        "from sklearn.linear_model import LogisticRegression\n",
        "from sklearn.model_selection import train_test_split\n",
        "from sklearn.metrics import classification_report\n",
        "\n",
        "\n",
        "X = embeddings\n",
        "y = review_df_cleaned['review_sentiment']\n",
        "\n",
        "\n",
        "# Split into train and test sets\n",
        "X_train, X_test, y_train, y_test = train_test_split(X, y, test_size=0.3, random_state=42)\n"
      ]
    },
    {
      "cell_type": "markdown",
      "metadata": {
        "id": "gZzTrjniIJ4a"
      },
      "source": [
        "## 5.2 Logistic Regression Model to classify sentiment (df1)"
      ]
    },
    {
      "cell_type": "code",
      "execution_count": 43,
      "metadata": {
        "colab": {
          "base_uri": "https://localhost:8080/"
        },
        "id": "QjdqylW9IRXZ",
        "outputId": "eec11704-5324-4621-b457-fd3ccf26d797"
      },
      "outputs": [
        {
          "name": "stdout",
          "output_type": "stream",
          "text": [
            "              precision    recall  f1-score   support\n",
            "\n",
            "       False       0.78      0.31      0.44      1654\n",
            "        True       0.94      0.99      0.97     18744\n",
            "\n",
            "    accuracy                           0.94     20398\n",
            "   macro avg       0.86      0.65      0.70     20398\n",
            "weighted avg       0.93      0.94      0.92     20398\n",
            "\n"
          ]
        }
      ],
      "source": [
        "\n",
        "# Create and train logistic regression model\n",
        "model = LogisticRegression()\n",
        "model.fit(X_train, y_train)\n",
        "\n",
        "# Predict and print classification metrics\n",
        "y_pred = model.predict(X_test)\n",
        "print(classification_report(y_test, y_pred))\n",
        "logistic_classification_report = classification_report(y_test, y_pred)"
      ]
    },
    {
      "cell_type": "markdown",
      "metadata": {
        "id": "kd_qpaXLIWnv"
      },
      "source": [
        "## 5.3 XGboost Classifier (df1)"
      ]
    },
    {
      "cell_type": "code",
      "execution_count": 44,
      "metadata": {
        "colab": {
          "base_uri": "https://localhost:8080/"
        },
        "id": "ha9vo4UuIpKD",
        "outputId": "b11ccc8d-780b-49ca-9a53-3fde378d75c9"
      },
      "outputs": [
        {
          "name": "stderr",
          "output_type": "stream",
          "text": [
            "/usr/local/lib/python3.11/dist-packages/xgboost/core.py:158: UserWarning: [22:23:10] WARNING: /workspace/src/learner.cc:740: \n",
            "Parameters: { \"use_label_encoder\" } are not used.\n",
            "\n",
            "  warnings.warn(smsg, UserWarning)\n"
          ]
        },
        {
          "name": "stdout",
          "output_type": "stream",
          "text": [
            "              precision    recall  f1-score   support\n",
            "\n",
            "       False       0.90      0.55      0.68      1654\n",
            "        True       0.96      0.99      0.98     18744\n",
            "\n",
            "    accuracy                           0.96     20398\n",
            "   macro avg       0.93      0.77      0.83     20398\n",
            "weighted avg       0.96      0.96      0.95     20398\n",
            "\n"
          ]
        }
      ],
      "source": [
        "import xgboost as xgb\n",
        "# Create and train XGBoost classifier\n",
        "model = xgb.XGBClassifier(use_label_encoder=False)\n",
        "model.fit(X_train, y_train)\n",
        "\n",
        "# Predict and print metrics\n",
        "y_pred = model.predict(X_test)\n",
        "xgboost_classification_report = classification_report(y_test, y_pred)\n",
        "print(xgboost_classification_report)"
      ]
    },
    {
      "cell_type": "markdown",
      "metadata": {
        "id": "JHTBoE3-I9iu"
      },
      "source": [
        "## 5.4 Oversampling using SMOTE to make training set balanced (df1)"
      ]
    },
    {
      "cell_type": "code",
      "execution_count": 46,
      "metadata": {
        "colab": {
          "base_uri": "https://localhost:8080/"
        },
        "id": "-BjnCQtLJHvp",
        "outputId": "18001d9d-5db2-427d-9f71-5930a72e79ff"
      },
      "outputs": [
        {
          "name": "stderr",
          "output_type": "stream",
          "text": [
            "/usr/local/lib/python3.11/dist-packages/xgboost/core.py:158: UserWarning: [22:25:12] WARNING: /workspace/src/learner.cc:740: \n",
            "Parameters: { \"use_label_encoder\" } are not used.\n",
            "\n",
            "  warnings.warn(smsg, UserWarning)\n"
          ]
        },
        {
          "name": "stdout",
          "output_type": "stream",
          "text": [
            "\n",
            "              precision    recall  f1-score   support\n",
            "\n",
            "       False       0.67      0.68      0.67      1654\n",
            "        True       0.97      0.97      0.97     18744\n",
            "\n",
            "    accuracy                           0.95     20398\n",
            "   macro avg       0.82      0.82      0.82     20398\n",
            "weighted avg       0.95      0.95      0.95     20398\n",
            "\n"
          ]
        }
      ],
      "source": [
        "from imblearn.over_sampling import SMOTE\n",
        "sm = SMOTE(random_state=42)\n",
        "X_resampled, y_resampled = sm.fit_resample(X_train, y_train)\n",
        "\n",
        "# Create and train XGBoost classifier\n",
        "model = xgb.XGBClassifier(use_label_encoder=False)\n",
        "model.fit(X_resampled, y_resampled)\n",
        "print()\n",
        "\n",
        "# Predict and print metrics\n",
        "y_pred = model.predict(X_test)\n",
        "xgboost_classification_report_sampling =  classification_report(y_test, y_pred)\n",
        "print(xgboost_classification_report_sampling)"
      ]
    },
    {
      "cell_type": "markdown",
      "metadata": {
        "id": "4rZJCRjsJqfZ"
      },
      "source": [
        "## 5.5 Compute scale_pos_weight (df1)"
      ]
    },
    {
      "cell_type": "code",
      "execution_count": 47,
      "metadata": {
        "colab": {
          "base_uri": "https://localhost:8080/"
        },
        "id": "JoKr2y9xJtYP",
        "outputId": "2ae8881e-ed18-4bab-a375-8c5d5a4b2542"
      },
      "outputs": [
        {
          "name": "stderr",
          "output_type": "stream",
          "text": [
            "/tmp/ipython-input-47-1916858910.py:4: FutureWarning: Series.__getitem__ treating keys as positions is deprecated. In a future version, integer keys will always be treated as labels (consistent with DataFrame behavior). To access a value by position, use `ser.iloc[pos]`\n",
            "  ratio=review_df_cleaned['review_sentiment'].value_counts()[1]/review_df_cleaned['review_sentiment'].value_counts()[0]\n",
            "/usr/local/lib/python3.11/dist-packages/xgboost/core.py:158: UserWarning: [22:28:09] WARNING: /workspace/src/learner.cc:740: \n",
            "Parameters: { \"use_label_encoder\" } are not used.\n",
            "\n",
            "  warnings.warn(smsg, UserWarning)\n"
          ]
        },
        {
          "name": "stdout",
          "output_type": "stream",
          "text": [
            "              precision    recall  f1-score   support\n",
            "\n",
            "       False       0.71      0.69      0.70      1654\n",
            "        True       0.97      0.97      0.97     18744\n",
            "\n",
            "    accuracy                           0.95     20398\n",
            "   macro avg       0.84      0.83      0.84     20398\n",
            "weighted avg       0.95      0.95      0.95     20398\n",
            "\n"
          ]
        }
      ],
      "source": [
        "import xgboost as xgb\n",
        "\n",
        "# Compute scale_pos_weight = (# negative samples) / (# positive samples)\n",
        "ratio=review_df_cleaned['review_sentiment'].value_counts()[1]/review_df_cleaned['review_sentiment'].value_counts()[0]\n",
        "model = xgb.XGBClassifier(scale_pos_weight=ratio, use_label_encoder=False, eval_metric='logloss')\n",
        "model.fit(X_train, y_train)\n",
        "\n",
        "# Predict and print metrics\n",
        "y_pred = model.predict(X_test)\n",
        "xgboost_classification_report_scaled = classification_report(y_test, y_pred)\n",
        "print(xgboost_classification_report_scaled)"
      ]
    },
    {
      "cell_type": "markdown",
      "metadata": {
        "id": "VSX6R73FKDRU"
      },
      "source": [
        "## 5.6 DistilBert Transformer Pipeline to do Classification (df1)"
      ]
    },
    {
      "cell_type": "code",
      "execution_count": 51,
      "metadata": {
        "colab": {
          "base_uri": "https://localhost:8080/"
        },
        "id": "2Hy6S6AgKfSh",
        "outputId": "7595ed8f-9216-4f36-d830-61deb96bb4c5"
      },
      "outputs": [
        {
          "name": "stderr",
          "output_type": "stream",
          "text": [
            "Device set to use cuda:0\n",
            "You seem to be using the pipelines sequentially on GPU. In order to maximize efficiency please use a dataset\n",
            "Token indices sequence length is longer than the specified maximum sequence length for this model (515 > 512). Running this sequence through the model will result in indexing errors\n"
          ]
        }
      ],
      "source": [
        "from transformers import pipeline\n",
        "from transformers import AutoTokenizer\n",
        "\n",
        "# Load pipeline and tokenizer\n",
        "sentiment_pipeline = pipeline(\"sentiment-analysis\", model=\"distilbert/distilbert-base-uncased-finetuned-sst-2-english\")\n",
        "tokenizer = AutoTokenizer.from_pretrained(\"distilbert/distilbert-base-uncased-finetuned-sst-2-english\")\n",
        "\n",
        "texts = docs.tolist()\n",
        "\n",
        "labels = []\n",
        "scores = []\n",
        "\n",
        "def chunk_text(text, max_tokens=512):\n",
        "    words = text.split()\n",
        "    chunks = []\n",
        "    chunk = []\n",
        "    for word in words:\n",
        "        chunk.append(word)\n",
        "        if len(tokenizer(\" \".join(chunk))[\"input_ids\"]) >= max_tokens:\n",
        "            chunks.append(\" \".join(chunk))\n",
        "            chunk = []\n",
        "    if chunk:\n",
        "        chunks.append(\" \".join(chunk))\n",
        "    return chunks\n",
        "\n",
        "for text in texts:\n",
        "    chunks = chunk_text(text)\n",
        "    chunk_results = sentiment_pipeline(chunks, truncation=True)\n",
        "\n",
        "    # Average sentiment score; use a threshold to decide final label\n",
        "    avg_score = sum(r[\"score\"] if r[\"label\"] == \"POSITIVE\" else -r[\"score\"] for r in chunk_results) / len(chunk_results)\n",
        "    label = \"POSITIVE\" if avg_score >= 0 else \"NEGATIVE\"\n",
        "\n",
        "    labels.append(label)\n",
        "    scores.append(abs(avg_score))\n",
        "\n"
      ]
    },
    {
      "cell_type": "code",
      "execution_count": 52,
      "metadata": {
        "id": "fVUV3G0cQP6F"
      },
      "outputs": [],
      "source": [
        "review_df_cleaned['Predicted']=[label=='POSITIVE' for label in labels]"
      ]
    },
    {
      "cell_type": "code",
      "execution_count": 53,
      "metadata": {
        "colab": {
          "base_uri": "https://localhost:8080/"
        },
        "id": "Dhwj0EiZQQ5n",
        "outputId": "6e979b65-6c86-432b-a5df-ce33ebd263ab"
      },
      "outputs": [
        {
          "name": "stdout",
          "output_type": "stream",
          "text": [
            "              precision    recall  f1-score   support\n",
            "\n",
            "       False       0.32      0.77      0.45      5445\n",
            "        True       0.98      0.86      0.91     62546\n",
            "\n",
            "    accuracy                           0.85     67991\n",
            "   macro avg       0.65      0.81      0.68     67991\n",
            "weighted avg       0.92      0.85      0.88     67991\n",
            "\n"
          ]
        }
      ],
      "source": [
        "from sklearn.metrics import classification_report\n",
        "report_review_sentiment = classification_report(review_df_cleaned['review_sentiment'], review_df_cleaned['Predicted'])\n",
        "print(report_review_sentiment)"
      ]
    },
    {
      "cell_type": "markdown",
      "metadata": {
        "id": "asnZZI59QlIY"
      },
      "source": [
        "## 5.7 Finetuned DistilBert Sentiment Classification Model (df2)"
      ]
    },
    {
      "cell_type": "markdown",
      "metadata": {
        "id": "dhJSkhakY8yW"
      },
      "source": [
        "### 5.7.1 Tokenize the labeled sentiment"
      ]
    },
    {
      "cell_type": "markdown",
      "metadata": {
        "id": "yN8dML8FTmkR"
      },
      "source": [
        "Prepares a labeled sentiment dataset (positive vs. negative).\n",
        "\n",
        "Splits and tokenizes it using DistilBERT.\n",
        "\n",
        "Saves the processed inputs and labels to disk as JSON.\n",
        "\n",
        "Saves the tokenizer for downstream use (training/inference)"
      ]
    },
    {
      "cell_type": "code",
      "execution_count": 55,
      "metadata": {
        "colab": {
          "base_uri": "https://localhost:8080/"
        },
        "id": "VvKLBWE5RBGG",
        "outputId": "d542b309-eaca-45fb-db52-358df5de3595"
      },
      "outputs": [
        {
          "name": "stdout",
          "output_type": "stream",
          "text": [
            " Tokenized encodings and labels saved as JSON. Let's load and verify next.\n"
          ]
        }
      ],
      "source": [
        "import pandas as pd\n",
        "from sklearn.model_selection import train_test_split\n",
        "from transformers import DistilBertTokenizerFast\n",
        "import json\n",
        "\n",
        "# Load labeled data\n",
        "df = pd.read_csv(\"labeled_reviews.csv\").dropna(subset=[\"reviews.text\"])\n",
        "label_map = {\"negative\": 0, \"positive\": 1}\n",
        "df[\"label\"] = df[\"sentiment\"].map(label_map)\n",
        "\n",
        "# Split into train/test\n",
        "train_df, test_df = train_test_split(df, test_size=0.2, stratify=df[\"label\"], random_state=42)\n",
        "\n",
        "# Tokenization\n",
        "tokenizer = DistilBertTokenizerFast.from_pretrained(\"distilbert-base-uncased\")\n",
        "train_enc = tokenizer(train_df[\"reviews.text\"].tolist(), truncation=True, padding=True, max_length=256)\n",
        "test_enc = tokenizer(test_df[\"reviews.text\"].tolist(), truncation=True, padding=True, max_length=256)\n",
        "\n",
        "# Convert BatchEncoding to plain dicts\n",
        "train_enc_dict = {k: v for k, v in train_enc.items()}\n",
        "test_enc_dict = {k: v for k, v in test_enc.items()}\n",
        "\n",
        "# Save as JSON\n",
        "with open(\"train_enc.json\", \"w\") as f:\n",
        "    json.dump({\"encodings\": train_enc_dict, \"labels\": train_df[\"label\"].tolist()}, f)\n",
        "\n",
        "with open(\"test_enc.json\", \"w\") as f:\n",
        "    json.dump({\"encodings\": test_enc_dict, \"labels\": test_df[\"label\"].tolist()}, f)\n",
        "\n",
        "# Save tokenizer and confirm\n",
        "tokenizer.save_pretrained(\"tokenizer\")\n",
        "print(\" Tokenized encodings and labels saved as JSON. Let's load and verify next.\")"
      ]
    },
    {
      "cell_type": "markdown",
      "metadata": {
        "id": "FAYOHidZZKWC"
      },
      "source": [
        "### 5.7.2 Convert to PyTorch-Ready datasets"
      ]
    },
    {
      "cell_type": "markdown",
      "metadata": {
        "id": "wR6PxVYaTsWX"
      },
      "source": [
        "This block converts the saved tokenized JSON data into PyTorch-ready datasets, which can be fed into Hugging Face's Trainer or native DataLoader loops."
      ]
    },
    {
      "cell_type": "code",
      "execution_count": 56,
      "metadata": {
        "colab": {
          "base_uri": "https://localhost:8080/"
        },
        "id": "8ntEXNInRk7N",
        "outputId": "3f611f84-2096-4f68-d730-440412ef5074"
      },
      "outputs": [
        {
          "name": "stdout",
          "output_type": "stream",
          "text": [
            " Loaded datasets: 54392 train, 13599 test samples.\n"
          ]
        }
      ],
      "source": [
        "import json\n",
        "import torch\n",
        "from torch.utils.data import Dataset\n",
        "\n",
        "# Load JSON data\n",
        "with open(\"train_enc.json\") as f:\n",
        "    train_data = json.load(f)\n",
        "with open(\"test_enc.json\") as f:\n",
        "    test_data = json.load(f)\n",
        "\n",
        "# Define Dataset class\n",
        "class SentimentDataset(Dataset):\n",
        "    def __init__(self, encodings, labels):\n",
        "        self.encodings = encodings\n",
        "        self.labels = labels\n",
        "    def __len__(self):\n",
        "        return len(self.labels)\n",
        "    def __getitem__(self, idx):\n",
        "        item = {k: torch.tensor(v[idx]) for k, v in self.encodings.items()}\n",
        "        item[\"labels\"] = torch.tensor(self.labels[idx])\n",
        "        return item\n",
        "\n",
        "# Instantiate datasets\n",
        "train_ds = SentimentDataset(train_data[\"encodings\"], train_data[\"labels\"])\n",
        "test_ds = SentimentDataset(test_data[\"encodings\"], test_data[\"labels\"])\n",
        "print(f\" Loaded datasets: {len(train_ds)} train, {len(test_ds)} test samples.\")\n"
      ]
    },
    {
      "cell_type": "markdown",
      "metadata": {
        "id": "mk8fxjVGZTxU"
      },
      "source": [
        "### 5.7.3 Create fine-tuned and balanced model using CrossEntropyLoss"
      ]
    },
    {
      "cell_type": "markdown",
      "metadata": {
        "id": "cTwW8UZfUno6"
      },
      "source": [
        "Added class weights to fix the severe imbalance between positive and negative reviews.\n",
        "\n",
        "Creating a fine-tuned and balanced model saved to disk and ready for inference."
      ]
    },
    {
      "cell_type": "code",
      "execution_count": 57,
      "metadata": {
        "colab": {
          "base_uri": "https://localhost:8080/",
          "height": 1000,
          "referenced_widgets": [
            "d4fc1f58165e4d7d8cbaae2ae29dc617",
            "37387186be5240f8ba33f5b68049e06b",
            "b1133a12297f41228265c0be53095cb1",
            "b6b2cf89be7b4f2cb4c37a700fce3178",
            "6950d2d4fafd49c98bc3f33751034c01",
            "86029982fb2b480f982cddee24de36c9",
            "06d2327561d04565a2b82a5eabf575c8",
            "ba5155b086464743a0ab206a29f3f87a",
            "423e77aea5844cfa9cd8d005914c26cc",
            "be9ca57d2b414cfca854fa1e1a640ed5",
            "0d687109c8eb41898314fcde5eee43bb"
          ]
        },
        "id": "clk44juMSW1G",
        "outputId": "3952cbb2-1f3d-4485-f407-d133796dd436"
      },
      "outputs": [
        {
          "data": {
            "application/vnd.jupyter.widget-view+json": {
              "model_id": "d4fc1f58165e4d7d8cbaae2ae29dc617",
              "version_major": 2,
              "version_minor": 0
            },
            "text/plain": [
              "model.safetensors:   0%|          | 0.00/268M [00:00<?, ?B/s]"
            ]
          },
          "metadata": {},
          "output_type": "display_data"
        },
        {
          "name": "stderr",
          "output_type": "stream",
          "text": [
            "Some weights of DistilBertForSequenceClassification were not initialized from the model checkpoint at distilbert-base-uncased and are newly initialized: ['classifier.bias', 'classifier.weight', 'pre_classifier.bias', 'pre_classifier.weight']\n",
            "You should probably TRAIN this model on a down-stream task to be able to use it for predictions and inference.\n",
            "\u001b[34m\u001b[1mwandb\u001b[0m: \u001b[33mWARNING\u001b[0m The `run_name` is currently set to the same value as `TrainingArguments.output_dir`. If this was not intended, please specify a different run name by setting the `TrainingArguments.run_name` parameter.\n"
          ]
        },
        {
          "data": {
            "application/javascript": "\n        window._wandbApiKey = new Promise((resolve, reject) => {\n            function loadScript(url) {\n            return new Promise(function(resolve, reject) {\n                let newScript = document.createElement(\"script\");\n                newScript.onerror = reject;\n                newScript.onload = resolve;\n                document.body.appendChild(newScript);\n                newScript.src = url;\n            });\n            }\n            loadScript(\"https://cdn.jsdelivr.net/npm/postmate/build/postmate.min.js\").then(() => {\n            const iframe = document.createElement('iframe')\n            iframe.style.cssText = \"width:0;height:0;border:none\"\n            document.body.appendChild(iframe)\n            const handshake = new Postmate({\n                container: iframe,\n                url: 'https://wandb.ai/authorize'\n            });\n            const timeout = setTimeout(() => reject(\"Couldn't auto authenticate\"), 5000)\n            handshake.then(function(child) {\n                child.on('authorize', data => {\n                    clearTimeout(timeout)\n                    resolve(data)\n                });\n            });\n            })\n        });\n    ",
            "text/plain": [
              "<IPython.core.display.Javascript object>"
            ]
          },
          "metadata": {},
          "output_type": "display_data"
        },
        {
          "name": "stderr",
          "output_type": "stream",
          "text": [
            "\u001b[34m\u001b[1mwandb\u001b[0m: Logging into wandb.ai. (Learn how to deploy a W&B server locally: https://wandb.me/wandb-server)\n",
            "\u001b[34m\u001b[1mwandb\u001b[0m: You can find your API key in your browser here: https://wandb.ai/authorize?ref=models\n",
            "wandb: Paste an API key from your profile and hit enter:"
          ]
        },
        {
          "name": "stdout",
          "output_type": "stream",
          "text": [
            " ··········\n"
          ]
        },
        {
          "name": "stderr",
          "output_type": "stream",
          "text": [
            "\u001b[34m\u001b[1mwandb\u001b[0m: \u001b[33mWARNING\u001b[0m If you're specifying your api key in code, ensure this code is not shared publicly.\n",
            "\u001b[34m\u001b[1mwandb\u001b[0m: \u001b[33mWARNING\u001b[0m Consider setting the WANDB_API_KEY environment variable, or running `wandb login` from the command line.\n",
            "\u001b[34m\u001b[1mwandb\u001b[0m: No netrc file found, creating one.\n",
            "\u001b[34m\u001b[1mwandb\u001b[0m: Appending key for api.wandb.ai to your netrc file: /root/.netrc\n",
            "\u001b[34m\u001b[1mwandb\u001b[0m: Currently logged in as: \u001b[33mmonishy1\u001b[0m (\u001b[33mmonishy1-university-of-san-diego\u001b[0m) to \u001b[32mhttps://api.wandb.ai\u001b[0m. Use \u001b[1m`wandb login --relogin`\u001b[0m to force relogin\n"
          ]
        },
        {
          "data": {
            "text/html": [
              "Tracking run with wandb version 0.20.1"
            ],
            "text/plain": [
              "<IPython.core.display.HTML object>"
            ]
          },
          "metadata": {},
          "output_type": "display_data"
        },
        {
          "data": {
            "text/html": [
              "Run data is saved locally in <code>/content/wandb/run-20250618_230645-w2nginv1</code>"
            ],
            "text/plain": [
              "<IPython.core.display.HTML object>"
            ]
          },
          "metadata": {},
          "output_type": "display_data"
        },
        {
          "data": {
            "text/html": [
              "Syncing run <strong><a href='https://wandb.ai/monishy1-university-of-san-diego/huggingface/runs/w2nginv1' target=\"_blank\">sentiment_model</a></strong> to <a href='https://wandb.ai/monishy1-university-of-san-diego/huggingface' target=\"_blank\">Weights & Biases</a> (<a href='https://wandb.me/developer-guide' target=\"_blank\">docs</a>)<br>"
            ],
            "text/plain": [
              "<IPython.core.display.HTML object>"
            ]
          },
          "metadata": {},
          "output_type": "display_data"
        },
        {
          "data": {
            "text/html": [
              " View project at <a href='https://wandb.ai/monishy1-university-of-san-diego/huggingface' target=\"_blank\">https://wandb.ai/monishy1-university-of-san-diego/huggingface</a>"
            ],
            "text/plain": [
              "<IPython.core.display.HTML object>"
            ]
          },
          "metadata": {},
          "output_type": "display_data"
        },
        {
          "data": {
            "text/html": [
              " View run at <a href='https://wandb.ai/monishy1-university-of-san-diego/huggingface/runs/w2nginv1' target=\"_blank\">https://wandb.ai/monishy1-university-of-san-diego/huggingface/runs/w2nginv1</a>"
            ],
            "text/plain": [
              "<IPython.core.display.HTML object>"
            ]
          },
          "metadata": {},
          "output_type": "display_data"
        },
        {
          "data": {
            "text/html": [
              "\n",
              "    <div>\n",
              "      \n",
              "      <progress value='10200' max='10200' style='width:300px; height:20px; vertical-align: middle;'></progress>\n",
              "      [10200/10200 30:11, Epoch 3/3]\n",
              "    </div>\n",
              "    <table border=\"1\" class=\"dataframe\">\n",
              "  <thead>\n",
              " <tr style=\"text-align: left;\">\n",
              "      <th>Step</th>\n",
              "      <th>Training Loss</th>\n",
              "    </tr>\n",
              "  </thead>\n",
              "  <tbody>\n",
              "    <tr>\n",
              "      <td>100</td>\n",
              "      <td>0.572000</td>\n",
              "    </tr>\n",
              "    <tr>\n",
              "      <td>200</td>\n",
              "      <td>0.538800</td>\n",
              "    </tr>\n",
              "    <tr>\n",
              "      <td>300</td>\n",
              "      <td>0.589500</td>\n",
              "    </tr>\n",
              "    <tr>\n",
              "      <td>400</td>\n",
              "      <td>0.501700</td>\n",
              "    </tr>\n",
              "    <tr>\n",
              "      <td>500</td>\n",
              "      <td>0.517400</td>\n",
              "    </tr>\n",
              "    <tr>\n",
              "      <td>600</td>\n",
              "      <td>0.462000</td>\n",
              "    </tr>\n",
              "    <tr>\n",
              "      <td>700</td>\n",
              "      <td>0.487000</td>\n",
              "    </tr>\n",
              "    <tr>\n",
              "      <td>800</td>\n",
              "      <td>0.407900</td>\n",
              "    </tr>\n",
              "    <tr>\n",
              "      <td>900</td>\n",
              "      <td>0.468400</td>\n",
              "    </tr>\n",
              "    <tr>\n",
              "      <td>1000</td>\n",
              "      <td>0.429100</td>\n",
              "    </tr>\n",
              "    <tr>\n",
              "      <td>1100</td>\n",
              "      <td>0.554400</td>\n",
              "    </tr>\n",
              "    <tr>\n",
              "      <td>1200</td>\n",
              "      <td>0.485100</td>\n",
              "    </tr>\n",
              "    <tr>\n",
              "      <td>1300</td>\n",
              "      <td>0.391900</td>\n",
              "    </tr>\n",
              "    <tr>\n",
              "      <td>1400</td>\n",
              "      <td>0.571500</td>\n",
              "    </tr>\n",
              "    <tr>\n",
              "      <td>1500</td>\n",
              "      <td>0.431400</td>\n",
              "    </tr>\n",
              "    <tr>\n",
              "      <td>1600</td>\n",
              "      <td>0.466800</td>\n",
              "    </tr>\n",
              "    <tr>\n",
              "      <td>1700</td>\n",
              "      <td>0.410100</td>\n",
              "    </tr>\n",
              "    <tr>\n",
              "      <td>1800</td>\n",
              "      <td>0.474900</td>\n",
              "    </tr>\n",
              "    <tr>\n",
              "      <td>1900</td>\n",
              "      <td>0.469900</td>\n",
              "    </tr>\n",
              "    <tr>\n",
              "      <td>2000</td>\n",
              "      <td>0.450700</td>\n",
              "    </tr>\n",
              "    <tr>\n",
              "      <td>2100</td>\n",
              "      <td>0.467100</td>\n",
              "    </tr>\n",
              "    <tr>\n",
              "      <td>2200</td>\n",
              "      <td>0.473600</td>\n",
              "    </tr>\n",
              "    <tr>\n",
              "      <td>2300</td>\n",
              "      <td>0.422500</td>\n",
              "    </tr>\n",
              "    <tr>\n",
              "      <td>2400</td>\n",
              "      <td>0.459700</td>\n",
              "    </tr>\n",
              "    <tr>\n",
              "      <td>2500</td>\n",
              "      <td>0.487700</td>\n",
              "    </tr>\n",
              "    <tr>\n",
              "      <td>2600</td>\n",
              "      <td>0.415800</td>\n",
              "    </tr>\n",
              "    <tr>\n",
              "      <td>2700</td>\n",
              "      <td>0.349000</td>\n",
              "    </tr>\n",
              "    <tr>\n",
              "      <td>2800</td>\n",
              "      <td>0.473600</td>\n",
              "    </tr>\n",
              "    <tr>\n",
              "      <td>2900</td>\n",
              "      <td>0.351400</td>\n",
              "    </tr>\n",
              "    <tr>\n",
              "      <td>3000</td>\n",
              "      <td>0.374400</td>\n",
              "    </tr>\n",
              "    <tr>\n",
              "      <td>3100</td>\n",
              "      <td>0.430600</td>\n",
              "    </tr>\n",
              "    <tr>\n",
              "      <td>3200</td>\n",
              "      <td>0.415100</td>\n",
              "    </tr>\n",
              "    <tr>\n",
              "      <td>3300</td>\n",
              "      <td>0.379200</td>\n",
              "    </tr>\n",
              "    <tr>\n",
              "      <td>3400</td>\n",
              "      <td>0.438500</td>\n",
              "    </tr>\n",
              "    <tr>\n",
              "      <td>3500</td>\n",
              "      <td>0.390200</td>\n",
              "    </tr>\n",
              "    <tr>\n",
              "      <td>3600</td>\n",
              "      <td>0.348900</td>\n",
              "    </tr>\n",
              "    <tr>\n",
              "      <td>3700</td>\n",
              "      <td>0.310500</td>\n",
              "    </tr>\n",
              "    <tr>\n",
              "      <td>3800</td>\n",
              "      <td>0.315000</td>\n",
              "    </tr>\n",
              "    <tr>\n",
              "      <td>3900</td>\n",
              "      <td>0.296800</td>\n",
              "    </tr>\n",
              "    <tr>\n",
              "      <td>4000</td>\n",
              "      <td>0.331800</td>\n",
              "    </tr>\n",
              "    <tr>\n",
              "      <td>4100</td>\n",
              "      <td>0.355800</td>\n",
              "    </tr>\n",
              "    <tr>\n",
              "      <td>4200</td>\n",
              "      <td>0.289600</td>\n",
              "    </tr>\n",
              "    <tr>\n",
              "      <td>4300</td>\n",
              "      <td>0.256700</td>\n",
              "    </tr>\n",
              "    <tr>\n",
              "      <td>4400</td>\n",
              "      <td>0.249800</td>\n",
              "    </tr>\n",
              "    <tr>\n",
              "      <td>4500</td>\n",
              "      <td>0.285300</td>\n",
              "    </tr>\n",
              "    <tr>\n",
              "      <td>4600</td>\n",
              "      <td>0.293000</td>\n",
              "    </tr>\n",
              "    <tr>\n",
              "      <td>4700</td>\n",
              "      <td>0.349200</td>\n",
              "    </tr>\n",
              "    <tr>\n",
              "      <td>4800</td>\n",
              "      <td>0.352000</td>\n",
              "    </tr>\n",
              "    <tr>\n",
              "      <td>4900</td>\n",
              "      <td>0.372700</td>\n",
              "    </tr>\n",
              "    <tr>\n",
              "      <td>5000</td>\n",
              "      <td>0.319600</td>\n",
              "    </tr>\n",
              "    <tr>\n",
              "      <td>5100</td>\n",
              "      <td>0.324800</td>\n",
              "    </tr>\n",
              "    <tr>\n",
              "      <td>5200</td>\n",
              "      <td>0.317400</td>\n",
              "    </tr>\n",
              "    <tr>\n",
              "      <td>5300</td>\n",
              "      <td>0.351300</td>\n",
              "    </tr>\n",
              "    <tr>\n",
              "      <td>5400</td>\n",
              "      <td>0.276300</td>\n",
              "    </tr>\n",
              "    <tr>\n",
              "      <td>5500</td>\n",
              "      <td>0.341800</td>\n",
              "    </tr>\n",
              "    <tr>\n",
              "      <td>5600</td>\n",
              "      <td>0.302000</td>\n",
              "    </tr>\n",
              "    <tr>\n",
              "      <td>5700</td>\n",
              "      <td>0.255500</td>\n",
              "    </tr>\n",
              "    <tr>\n",
              "      <td>5800</td>\n",
              "      <td>0.341400</td>\n",
              "    </tr>\n",
              "    <tr>\n",
              "      <td>5900</td>\n",
              "      <td>0.264600</td>\n",
              "    </tr>\n",
              "    <tr>\n",
              "      <td>6000</td>\n",
              "      <td>0.263600</td>\n",
              "    </tr>\n",
              "    <tr>\n",
              "      <td>6100</td>\n",
              "      <td>0.375200</td>\n",
              "    </tr>\n",
              "    <tr>\n",
              "      <td>6200</td>\n",
              "      <td>0.293600</td>\n",
              "    </tr>\n",
              "    <tr>\n",
              "      <td>6300</td>\n",
              "      <td>0.309100</td>\n",
              "    </tr>\n",
              "    <tr>\n",
              "      <td>6400</td>\n",
              "      <td>0.390900</td>\n",
              "    </tr>\n",
              "    <tr>\n",
              "      <td>6500</td>\n",
              "      <td>0.335000</td>\n",
              "    </tr>\n",
              "    <tr>\n",
              "      <td>6600</td>\n",
              "      <td>0.331700</td>\n",
              "    </tr>\n",
              "    <tr>\n",
              "      <td>6700</td>\n",
              "      <td>0.317300</td>\n",
              "    </tr>\n",
              "    <tr>\n",
              "      <td>6800</td>\n",
              "      <td>0.248400</td>\n",
              "    </tr>\n",
              "    <tr>\n",
              "      <td>6900</td>\n",
              "      <td>0.187600</td>\n",
              "    </tr>\n",
              "    <tr>\n",
              "      <td>7000</td>\n",
              "      <td>0.244500</td>\n",
              "    </tr>\n",
              "    <tr>\n",
              "      <td>7100</td>\n",
              "      <td>0.246000</td>\n",
              "    </tr>\n",
              "    <tr>\n",
              "      <td>7200</td>\n",
              "      <td>0.164100</td>\n",
              "    </tr>\n",
              "    <tr>\n",
              "      <td>7300</td>\n",
              "      <td>0.249900</td>\n",
              "    </tr>\n",
              "    <tr>\n",
              "      <td>7400</td>\n",
              "      <td>0.107900</td>\n",
              "    </tr>\n",
              "    <tr>\n",
              "      <td>7500</td>\n",
              "      <td>0.102600</td>\n",
              "    </tr>\n",
              "    <tr>\n",
              "      <td>7600</td>\n",
              "      <td>0.184500</td>\n",
              "    </tr>\n",
              "    <tr>\n",
              "      <td>7700</td>\n",
              "      <td>0.249300</td>\n",
              "    </tr>\n",
              "    <tr>\n",
              "      <td>7800</td>\n",
              "      <td>0.222600</td>\n",
              "    </tr>\n",
              "    <tr>\n",
              "      <td>7900</td>\n",
              "      <td>0.192400</td>\n",
              "    </tr>\n",
              "    <tr>\n",
              "      <td>8000</td>\n",
              "      <td>0.112200</td>\n",
              "    </tr>\n",
              "    <tr>\n",
              "      <td>8100</td>\n",
              "      <td>0.182300</td>\n",
              "    </tr>\n",
              "    <tr>\n",
              "      <td>8200</td>\n",
              "      <td>0.157300</td>\n",
              "    </tr>\n",
              "    <tr>\n",
              "      <td>8300</td>\n",
              "      <td>0.225200</td>\n",
              "    </tr>\n",
              "    <tr>\n",
              "      <td>8400</td>\n",
              "      <td>0.161000</td>\n",
              "    </tr>\n",
              "    <tr>\n",
              "      <td>8500</td>\n",
              "      <td>0.258000</td>\n",
              "    </tr>\n",
              "    <tr>\n",
              "      <td>8600</td>\n",
              "      <td>0.064200</td>\n",
              "    </tr>\n",
              "    <tr>\n",
              "      <td>8700</td>\n",
              "      <td>0.189000</td>\n",
              "    </tr>\n",
              "    <tr>\n",
              "      <td>8800</td>\n",
              "      <td>0.124600</td>\n",
              "    </tr>\n",
              "    <tr>\n",
              "      <td>8900</td>\n",
              "      <td>0.124500</td>\n",
              "    </tr>\n",
              "    <tr>\n",
              "      <td>9000</td>\n",
              "      <td>0.144000</td>\n",
              "    </tr>\n",
              "    <tr>\n",
              "      <td>9100</td>\n",
              "      <td>0.146200</td>\n",
              "    </tr>\n",
              "    <tr>\n",
              "      <td>9200</td>\n",
              "      <td>0.210800</td>\n",
              "    </tr>\n",
              "    <tr>\n",
              "      <td>9300</td>\n",
              "      <td>0.130100</td>\n",
              "    </tr>\n",
              "    <tr>\n",
              "      <td>9400</td>\n",
              "      <td>0.243500</td>\n",
              "    </tr>\n",
              "    <tr>\n",
              "      <td>9500</td>\n",
              "      <td>0.215700</td>\n",
              "    </tr>\n",
              "    <tr>\n",
              "      <td>9600</td>\n",
              "      <td>0.189200</td>\n",
              "    </tr>\n",
              "    <tr>\n",
              "      <td>9700</td>\n",
              "      <td>0.193300</td>\n",
              "    </tr>\n",
              "    <tr>\n",
              "      <td>9800</td>\n",
              "      <td>0.144300</td>\n",
              "    </tr>\n",
              "    <tr>\n",
              "      <td>9900</td>\n",
              "      <td>0.228000</td>\n",
              "    </tr>\n",
              "    <tr>\n",
              "      <td>10000</td>\n",
              "      <td>0.309300</td>\n",
              "    </tr>\n",
              "    <tr>\n",
              "      <td>10100</td>\n",
              "      <td>0.164000</td>\n",
              "    </tr>\n",
              "    <tr>\n",
              "      <td>10200</td>\n",
              "      <td>0.157300</td>\n",
              "    </tr>\n",
              "  </tbody>\n",
              "</table><p>"
            ],
            "text/plain": [
              "<IPython.core.display.HTML object>"
            ]
          },
          "metadata": {},
          "output_type": "display_data"
        },
        {
          "name": "stdout",
          "output_type": "stream",
          "text": [
            "✅ Model trained and saved successfully.\n"
          ]
        }
      ],
      "source": [
        "import torch\n",
        "import torch.nn as nn\n",
        "from transformers import DistilBertForSequenceClassification, Trainer, TrainingArguments\n",
        "\n",
        "import pandas as pd\n",
        "df = pd.read_csv(\"labeled_reviews.csv\")\n",
        "counts = df[\"sentiment\"].value_counts()\n",
        "total = len(df)\n",
        "\n",
        "# Computing the class weights\n",
        "class_weights = torch.tensor(\n",
        "    [total/counts[\"negative\"], total/counts[\"positive\"]],\n",
        "    dtype=torch.float)\n",
        "\n",
        "# We create a custom trainer with the weighted loss\n",
        "class WeightedTrainer(Trainer):\n",
        "    #overriding here\n",
        "    def compute_loss(self, model, inputs, return_outputs=False, **kwargs):\n",
        "        labels = inputs.pop(\"labels\")\n",
        "        outputs = model(**inputs)\n",
        "        logits = outputs.logits\n",
        "        loss_fn = nn.CrossEntropyLoss(weight=class_weights.to(logits.device)) #Uses CrossEntropyLoss(weight=class_weights) to penalize the model more for misclassifying the minority class.\n",
        "        loss = loss_fn(logits, labels)\n",
        "        return (loss, outputs) if return_outputs else loss\n",
        "\n",
        "\"\"\"\n",
        "Typical Hugging Face training config.\n",
        "\n",
        "Trains for 3 epochs, saves checkpoints every 500 steps, logs every 100 steps.\n",
        "\n",
        "do_train=True, do_eval=True ensure both training and evaluation occur\n",
        "\"\"\"\n",
        "training_args = TrainingArguments(\n",
        "    output_dir=\"sentiment_model\",\n",
        "    num_train_epochs=3,\n",
        "    per_device_train_batch_size=16,\n",
        "    per_device_eval_batch_size=16,\n",
        "    weight_decay=0.01,\n",
        "    logging_steps=100,\n",
        "    save_total_limit=2,\n",
        "    do_train=True,\n",
        "    do_eval=True,\n",
        "    eval_steps=500,\n",
        "    save_steps=500\n",
        ")\n",
        "# Initializes a binary classification model (positive vs negative).\n",
        "model = DistilBertForSequenceClassification.from_pretrained(\"distilbert-base-uncased\", num_labels=2)\n",
        "trainer = WeightedTrainer(\n",
        "    model=model,\n",
        "    args=training_args,\n",
        "    train_dataset=train_ds,\n",
        "    eval_dataset=test_ds\n",
        ")\n",
        "\n",
        "#Train\n",
        "trainer.train()\n",
        "trainer.save_model(\"sentiment_model\")\n",
        "print(\"✅ Model trained and saved successfully.\")\n"
      ]
    },
    {
      "cell_type": "markdown",
      "metadata": {
        "id": "KkB45ivwVFis"
      },
      "source": [
        "### 5.7.4 Run Prediction on Test Set"
      ]
    },
    {
      "cell_type": "markdown",
      "metadata": {
        "id": "LpSZi1RYaJ0e"
      },
      "source": []
    },
    {
      "cell_type": "code",
      "execution_count": 58,
      "metadata": {
        "colab": {
          "base_uri": "https://localhost:8080/",
          "height": 503
        },
        "id": "RdIzk4oSSeBW",
        "outputId": "bcec3053-6402-41f2-cb80-55565dbd6160"
      },
      "outputs": [
        {
          "data": {
            "text/html": [],
            "text/plain": [
              "<IPython.core.display.HTML object>"
            ]
          },
          "metadata": {},
          "output_type": "display_data"
        },
        {
          "name": "stdout",
          "output_type": "stream",
          "text": [
            "Evaluation results:\n",
            " {\n",
            "  \"negative\": {\n",
            "    \"precision\": 0.8348439073514602,\n",
            "    \"recall\": 0.7661737523105361,\n",
            "    \"f1-score\": 0.7990361445783133,\n",
            "    \"support\": 1082.0\n",
            "  },\n",
            "  \"positive\": {\n",
            "    \"precision\": 0.9799301919720768,\n",
            "    \"recall\": 0.986897818966206,\n",
            "    \"f1-score\": 0.9834016638140349,\n",
            "    \"support\": 12517.0\n",
            "  },\n",
            "  \"accuracy\": 0.9693359805868078,\n",
            "  \"macro avg\": {\n",
            "    \"precision\": 0.9073870496617684,\n",
            "    \"recall\": 0.8765357856383711,\n",
            "    \"f1-score\": 0.8912189041961741,\n",
            "    \"support\": 13599.0\n",
            "  },\n",
            "  \"weighted avg\": {\n",
            "    \"precision\": 0.9683864490527807,\n",
            "    \"recall\": 0.9693359805868078,\n",
            "    \"f1-score\": 0.9687326814026039,\n",
            "    \"support\": 13599.0\n",
            "  }\n",
            "}\n"
          ]
        }
      ],
      "source": [
        "from sklearn.metrics import classification_report\n",
        "import json\n",
        "\n",
        "results = trainer.predict(test_ds)\n",
        "y_pred = results.predictions.argmax(axis=1)\n",
        "true_labels = [item[\"labels\"].item() for item in test_ds]\n",
        "\n",
        "classification_report_distilbert_finetuned = classification_report(\n",
        "    true_labels,\n",
        "    y_pred,\n",
        "    target_names=[\"negative\",\"positive\"],\n",
        "    output_dict=True\n",
        ")\n",
        "\n",
        "with open(\"classification_report_distilbert_finetuned.json\", \"w\") as f:\n",
        "    json.dump(classification_report_distilbert_finetuned, f, indent=4)\n",
        "\n",
        "print(\"Evaluation results:\\n\", json.dumps(classification_report_distilbert_finetuned, indent=2))\n"
      ]
    },
    {
      "cell_type": "markdown",
      "metadata": {
        "id": "LKCJPxmMabpg"
      },
      "source": [
        "### 5.7.5 Prepare review texts for inference"
      ]
    },
    {
      "cell_type": "markdown",
      "metadata": {
        "id": "zQm9PoAYVIAI"
      },
      "source": [
        "setting up all raw review texts in the proper tokenized tensor format that your BERT model can understand for sentiment inference (i.e., predicting the sentiment label for each review)"
      ]
    },
    {
      "cell_type": "code",
      "execution_count": 59,
      "metadata": {
        "id": "cd9-KpqRV2-_"
      },
      "outputs": [],
      "source": [
        "import pandas as pd\n",
        "\n",
        "df = pd.read_csv(\"amazon_reviews.csv\")\n",
        "df = df[df[\"reviews.text\"].apply(lambda x: isinstance(x, str))].copy()\n"
      ]
    },
    {
      "cell_type": "code",
      "execution_count": 60,
      "metadata": {
        "id": "qr7v03LJVEHg"
      },
      "outputs": [],
      "source": [
        "\"\"\"\n",
        "The reviews are processed in chunks of 1000 to avoid memory overflow.\n",
        "\n",
        "truncation=True: cuts off text beyond 256 tokens.\n",
        "\n",
        "padding=\"max_length\": pads all sequences to exactly 256 tokens.\n",
        "\n",
        "return_tensors=\"pt\": outputs PyTorch tensors.\n",
        "\n",
        "Each enc contains:\n",
        "\n",
        "input_ids: token IDs (numerical representation)\n",
        "\n",
        "attention_mask: indicates which tokens are actual text vs. padding (1 for real tokens, 0 for padding)\n",
        "\n",
        "\n",
        "\"\"\"\n",
        "\n",
        "from transformers import DistilBertTokenizerFast\n",
        "import torch\n",
        "\n",
        "tokenizer = DistilBertTokenizerFast.from_pretrained(\"tokenizer\")\n",
        "texts = df[\"reviews.text\"].tolist()\n",
        "\n",
        "input_ids_list, attention_masks_list = [], []\n",
        "batch_size = 1000\n",
        "\n",
        "# This loop ensures each batch of 1000 reviews is:\n",
        "\n",
        "# Tokenized into input_ids and attention_mask\n",
        "\n",
        "# Padded and truncated to 256 tokens\n",
        "\n",
        "for i in range(0, len(texts), batch_size):\n",
        "    batch = texts[i : i + batch_size]\n",
        "    enc = tokenizer(\n",
        "        batch,\n",
        "        truncation=True,\n",
        "        padding=\"max_length\",\n",
        "        max_length=256,\n",
        "        return_tensors=\"pt\"\n",
        "    )\n",
        "    input_ids_list.append(enc[\"input_ids\"])\n",
        "    attention_masks_list.append(enc[\"attention_mask\"])\n",
        "\n",
        "# Then everything is concatenated into tensors:\n",
        "input_ids = torch.cat(input_ids_list)\n",
        "attention_masks = torch.cat(attention_masks_list)\n"
      ]
    },
    {
      "cell_type": "markdown",
      "metadata": {
        "id": "n7DkxPSAazRQ"
      },
      "source": [
        "### 5.7.6 Predict sentiment of all product reviews using the classifier"
      ]
    },
    {
      "cell_type": "markdown",
      "metadata": {
        "id": "brjEecbbWDjk"
      },
      "source": [
        "To predict the sentiment (positive or negative) of all product reviews using the fine-tuned model and save the results into a new CSV.\n",
        "\n",
        "Output file: all_reviews_with_preds.csv\n",
        "\n",
        "Includes every review’s predicted sentiment.\n",
        "\n",
        "This file will later be used for aggregating sentiment per product, summarizing, or visualizing trends."
      ]
    },
    {
      "cell_type": "code",
      "execution_count": 61,
      "metadata": {
        "colab": {
          "base_uri": "https://localhost:8080/"
        },
        "id": "JUxZOT7uWQAf",
        "outputId": "ad2bc67a-600b-4420-d5d8-b15ef270436a"
      },
      "outputs": [
        {
          "name": "stdout",
          "output_type": "stream",
          "text": [
            "✅ Inference complete in 28.03 seconds.\n"
          ]
        }
      ],
      "source": [
        "import time\n",
        "import torch\n",
        "from transformers import DistilBertForSequenceClassification\n",
        "from torch.utils.data import DataLoader, TensorDataset\n",
        "from torch.cuda.amp import autocast\n",
        "\n",
        "# Load model and tokenizer\n",
        "model = DistilBertForSequenceClassification.from_pretrained(\"sentiment_model\").to('cuda').eval()\n",
        "\n",
        "#Setup Inference Pipeline\n",
        "dataset = TensorDataset(input_ids, attention_masks)\n",
        "loader = DataLoader(dataset, batch_size=128)\n",
        "\n",
        "#Running the inference pipeline\n",
        "start = time.time()\n",
        "preds = []\n",
        "with torch.no_grad():\n",
        "    for ids, masks in loader:\n",
        "        ids, masks = ids.cuda(), masks.cuda()\n",
        "        with autocast():\n",
        "            outputs = model(input_ids=ids, attention_mask=masks)\n",
        "        preds.extend(torch.argmax(outputs.logits, dim=1).tolist())\n",
        "end = time.time()\n",
        "\n",
        "print(f\"✅ Inference complete in {end - start:.2f} seconds.\")\n",
        "df[\"pred_label\"] = preds\n",
        "df[\"pred_sentiment\"] = df[\"pred_label\"].map({0: \"negative\", 1: \"positive\"})\n",
        "# Attach predictions to df\n",
        "df.to_csv(\"all_reviews_with_preds.csv\", index=False)\n"
      ]
    },
    {
      "cell_type": "markdown",
      "metadata": {
        "id": "_yUMhKe-bYYy"
      },
      "source": [
        "### 5.7.7 Product-level sentiment aggregation"
      ]
    },
    {
      "cell_type": "markdown",
      "metadata": {
        "id": "wHDQ6bodWat6"
      },
      "source": [
        "performs product-level sentiment aggregation and saves a CSV of summary statistics that later pass to an LLM for review generation."
      ]
    },
    {
      "cell_type": "code",
      "execution_count": 62,
      "metadata": {
        "id": "F9YetzQ_WbAz"
      },
      "outputs": [],
      "source": [
        "import pandas as pd\n",
        "\n",
        "df = pd.read_csv(\"all_reviews_with_preds.csv\")\n",
        "# Aggregate Sentiment Stats by Product\n",
        "stats = (\n",
        "    df.groupby(\"name\")[\"pred_sentiment\"]\n",
        "      .value_counts(normalize=True)\n",
        "      .unstack(fill_value=0)\n",
        ")\n",
        "\n",
        "#Formatting to later use with LLM\n",
        "stats[\"review_count\"] = df.groupby(\"name\").size()\n",
        "stats.reset_index(inplace=True)\n",
        "stats.rename(columns={\"negative\":\"neg_pct\", \"positive\":\"pos_pct\"}, inplace=True)\n",
        "\n",
        "stats.to_csv(\"product_sentiment_stats.csv\", index=False)\n"
      ]
    },
    {
      "cell_type": "markdown",
      "metadata": {
        "id": "1rviq_tVbiAv"
      },
      "source": [
        "### 5.7.8 Extract most helpful reviews for each product based on sentiment"
      ]
    },
    {
      "cell_type": "markdown",
      "metadata": {
        "id": "Q5x-MkoIWlwL"
      },
      "source": [
        "For every product:\n",
        "\n",
        "Find the most helpful positive review\n",
        "\n",
        "Find the most helpful negative review\n",
        "And save them side by side for possible use in summaries or prompts to the LLM."
      ]
    },
    {
      "cell_type": "code",
      "execution_count": 63,
      "metadata": {
        "id": "Hmhg9l6XWoOe"
      },
      "outputs": [],
      "source": [
        "#Finding the top negative and positive based of number of helpful column\n",
        "\n",
        "top_pos = df[df.pred_sentiment==\"positive\"].sort_values([\"name\",\"reviews.numHelpful\"], ascending=False).groupby(\"name\").first().reset_index()\n",
        "top_neg = df[df.pred_sentiment==\"negative\"].sort_values([\"name\",\"reviews.numHelpful\"], ascending=False).groupby(\"name\").first().reset_index()\n",
        "\n",
        "top_reviews = top_pos.merge(top_neg, on=\"name\", suffixes=(\"_pos\",\"_neg\"))\n",
        "top_reviews[[\"name\",\"reviews.text_pos\",\"reviews.text_neg\"]].to_csv(\"top_reviews_per_product.csv\", index=False)\n"
      ]
    },
    {
      "cell_type": "markdown",
      "metadata": {
        "id": "mZfapj-9W1SS"
      },
      "source": [
        "This CSV is a perfect supplement to product_sentiment_stats.csv.\n",
        "can feed both into  LLM to write well-rounded summaries:\n",
        "\n",
        "Quantitative stats (pos_pct, neg_pct, review_count)\n",
        "\n",
        "Qualitative highlights (top helpful review examples)"
      ]
    },
    {
      "cell_type": "markdown",
      "metadata": {
        "id": "HXfIHYwsW8ma"
      },
      "source": [
        "We now have\n",
        "\n",
        "Quantitative stats: percent of positive/negative reviews per product + review counts\n",
        "\n",
        "Qualitative review selection: Most helpful positive and negative review per product\n",
        "\n",
        "These two together give us a strong base for:\n",
        "\n",
        "Sentiment analysis\n",
        "\n",
        "Product summaries\n",
        "\n",
        "AI-generated overviews for shoppers or stakeholders"
      ]
    },
    {
      "cell_type": "markdown",
      "metadata": {
        "id": "hXiow-h1cVc9"
      },
      "source": [
        "## 5.8 LLM Model to create summary for each product"
      ]
    },
    {
      "cell_type": "markdown",
      "metadata": {
        "id": "v24jl4_0ey0r"
      },
      "source": [
        "### 5.8.1 Third Party LLM setup with Mistralai (HuggingFace)"
      ]
    },
    {
      "cell_type": "code",
      "execution_count": 64,
      "metadata": {
        "id": "6Ba5ZfvncxZf"
      },
      "outputs": [],
      "source": [
        "import pandas as pd\n",
        "\n",
        "# Load sentiment stats and sample reviews\n",
        "stats = pd.read_csv(\"product_sentiment_stats.csv\")\n",
        "top_reviews = pd.read_csv(\"top_reviews_per_product.csv\")"
      ]
    },
    {
      "cell_type": "code",
      "execution_count": null,
      "metadata": {
        "id": "QHnTonvAdGE3"
      },
      "outputs": [],
      "source": [
        "from huggingface_hub import login\n",
        "\n",
        "login(token=\"*\")  # Hugging Face token (removed for here)\n"
      ]
    },
    {
      "cell_type": "markdown",
      "metadata": {
        "id": "4VPszspnfGEw"
      },
      "source": [
        "### 5.8.2 Model & Tokenizer Setup and Inference Pipeline"
      ]
    },
    {
      "cell_type": "code",
      "execution_count": null,
      "metadata": {
        "id": "a7E4pHY3dnxv"
      },
      "outputs": [],
      "source": [
        "import torch\n",
        "from transformers import AutoTokenizer, AutoModelForCausalLM, pipeline\n",
        "\n",
        "model_id = \"mistralai/Mistral-7B-Instruct-v0.1\"  # gated model with access\n",
        "\n",
        "# Loads the tokenizer associated with the model (tokenizes input text into IDs).\n",
        "tokenizer = AutoTokenizer.from_pretrained(model_id, use_auth_token=True)\n",
        "\n",
        "'''\n",
        "Loads the causal language model:\n",
        "\n",
        "torch_dtype=torch.float16: reduces memory usage (important for 7B models).\n",
        "\n",
        "device_map=\"auto\": automatically distributes the model across available GPU(s) or CPU.\n",
        "\n",
        "use_auth_token=True: required due to restricted access.\n",
        "'''\n",
        "\n",
        "model = AutoModelForCausalLM.from_pretrained(model_id, torch_dtype=torch.float16, device_map=\"auto\", use_auth_token=True)\n",
        "\n",
        "'''\n",
        "max_new_tokens=150: limit the output to 150 new tokens (words/punctuation).\n",
        "\n",
        "temperature=0.7: controls randomness. Lower is more deterministic; 0.7 is moderately creative.\n",
        "\n",
        "device_map=\"auto\" again ensures the model uses GPU if available.\n",
        "'''\n",
        "generator = pipeline(\n",
        "    \"text-generation\",\n",
        "    model=model,\n",
        "    tokenizer=tokenizer,\n",
        "    max_new_tokens=150,\n",
        "    temperature=0.7,\n",
        "    device_map=\"auto\"\n",
        ")\n"
      ]
    },
    {
      "cell_type": "markdown",
      "metadata": {
        "id": "Cb8q9Ja3gEP2"
      },
      "source": [
        "### 5.8.3 Generate summaries per product using sentiment stats and top reviews with LLM\n"
      ]
    },
    {
      "cell_type": "markdown",
      "metadata": {
        "id": "Sj5aTDtugZCL"
      },
      "source": [
        "Automatically generate short product summaries using an LLM based on:\n",
        "\n",
        "Sentiment distribution per product.\n",
        "\n",
        "Most helpful positive and negative reviews."
      ]
    },
    {
      "cell_type": "code",
      "execution_count": null,
      "metadata": {
        "id": "QvtU8AGcdurm"
      },
      "outputs": [],
      "source": [
        "import pandas as pd\n",
        "\n",
        "stats = pd.read_csv(\"product_sentiment_stats.csv\")\n",
        "reviews = pd.read_csv(\"top_reviews_per_product.csv\")\n",
        "\n",
        "PROMPT = \"\"\"\n",
        "Product: {name}\n",
        "Reviews: {review_count}, 👍 {pos_pct:.0%}, 👎 {neg_pct:.0%}\n",
        "Top Positive: \"{text_pos}\"\n",
        "Top Negative: \"{text_neg}\"\n",
        "\n",
        "Write a concise 1–2 sentence summary: key strength, main issue, and overall recommendation.\n",
        "\"\"\"\n",
        "\n",
        "summaries = []\n",
        "for _, r in stats.iterrows():\n",
        "    revs = reviews[reviews[\"name\"] == r[\"name\"]]\n",
        "    if revs.empty:\n",
        "      continue\n",
        "\n",
        "    rev = revs.iloc[0]\n",
        "    prompt = PROMPT.format(\n",
        "        name=r[\"name\"],\n",
        "        review_count=r[\"review_count\"],\n",
        "        pos_pct=r[\"pos_pct\"],\n",
        "        neg_pct=r[\"neg_pct\"],\n",
        "        text_pos=rev[\"reviews.text_pos\"],\n",
        "        text_neg=rev[\"reviews.text_neg\"],\n",
        "    )\n",
        "    out = generator(prompt)[0][\"generated_text\"].strip()\n",
        "    summaries.append({\"name\": r[\"name\"], \"summary\": out})\n",
        "\n",
        "pd.DataFrame(summaries).to_csv(\"product_summaries.csv\", index=False)\n",
        "\n"
      ]
    },
    {
      "cell_type": "markdown",
      "metadata": {},
      "source": [
        "# 6. Evaluation"
      ]
    },
    {
      "cell_type": "markdown",
      "metadata": {},
      "source": [
        "## 6.1 Logistic Regression Model"
      ]
    },
    {
      "cell_type": "markdown",
      "metadata": {},
      "source": [
        "              precision    recall  f1-score   support\n",
        "\n",
        "       False       0.78      0.31      0.44      1654\n",
        "        True       0.94      0.99      0.97     18744\n",
        "\n",
        "    accuracy                           0.94     20398\n",
        "   macro avg       0.86      0.65      0.70     20398\n",
        "weighted avg       0.93      0.94      0.92     20398"
      ]
    },
    {
      "cell_type": "markdown",
      "metadata": {},
      "source": [
        "The True class represents positive reviews and False class represents negative reviews\n",
        "\n",
        "High accuracy (94%): But this is misleading due to the heavy imbalance.\n",
        "\n",
        "Low recall for the False class (31%): The model fails to correctly identify most of the minority class examples.\n",
        "\n",
        "High recall for the True class (99%): It detects the majority class very well.\n",
        "\n",
        "Macro F1-score (0.70) is much lower than weighted F1-score (0.92), signaling poor minority class performance.\n",
        "\n",
        "This model prioritizes the majority class and may not be suitable if identifying the minority class (negative) is critical."
      ]
    },
    {
      "cell_type": "markdown",
      "metadata": {},
      "source": [
        "## 6.2 XGboost Classifier"
      ]
    },
    {
      "cell_type": "markdown",
      "metadata": {},
      "source": [
        "              precision    recall  f1-score   support\n",
        "\n",
        "       False       0.90      0.55      0.68      1654\n",
        "        True       0.96      0.99      0.98     18744\n",
        "\n",
        "    accuracy                           0.96     20398\n",
        "   macro avg       0.93      0.77      0.83     20398\n",
        "weighted avg       0.96      0.96      0.95     20398"
      ]
    },
    {
      "cell_type": "markdown",
      "metadata": {},
      "source": [
        "Significant improvement in minority class (False) precision (0.90) and f1-score (0.68) compared to Logistic Regression.\n",
        "\n",
        "Recall for False is still 0.55: The model misses ~45% of False cases.\n",
        "\n",
        "Excellent performance on the majority class (True) with near-perfect recall and F1.\n",
        "\n",
        "Macro-average F1 improved to 0.83, showing better balance across both classes.\n",
        "\n",
        "Weighted-average F1 is high (0.95), dominated by the majority class but still indicates strong model performance overall."
      ]
    },
    {
      "cell_type": "markdown",
      "metadata": {},
      "source": [
        "## 6.3 SMOTE with XGboost"
      ]
    },
    {
      "cell_type": "markdown",
      "metadata": {},
      "source": [
        "              precision    recall  f1-score   support\n",
        "\n",
        "       False       0.67      0.68      0.67      1654\n",
        "        True       0.97      0.97      0.97     18744\n",
        "\n",
        "    accuracy                           0.95     20398\n",
        "   macro avg       0.82      0.82      0.82     20398\n",
        "weighted avg       0.95      0.95      0.95     20398"
      ]
    },
    {
      "cell_type": "markdown",
      "metadata": {},
      "source": [
        "Much better balance: SMOTE helped the model learn the minority class (False) more effectively — recall rose from 0.55 → 0.68.\n",
        "\n",
        "F1-score for False improved significantly to 0.67, making this model much more reliable in detecting rare cases.\n",
        "\n",
        "Macro average F1 is now 0.82, indicating a healthy balance across both classes.\n",
        "\n",
        "The model retains high performance on the majority class (True), with very little trade-off.\n",
        "\n",
        "We still believe that we can do better in terms of recall and precision of Negative Review Classification"
      ]
    },
    {
      "cell_type": "markdown",
      "metadata": {},
      "source": [
        "## 6.4 XGboost with pos-scale weight"
      ]
    },
    {
      "cell_type": "markdown",
      "metadata": {},
      "source": [
        "              precision    recall  f1-score   support\n",
        "\n",
        "       False       0.71      0.69      0.70      1654\n",
        "        True       0.97      0.97      0.97     18744\n",
        "\n",
        "    accuracy                           0.95     20398\n",
        "   macro avg       0.84      0.83      0.84     20398\n",
        "weighted avg       0.95      0.95      0.95     20398"
      ]
    },
    {
      "cell_type": "markdown",
      "metadata": {},
      "source": [
        "Best minority performance yet: F1 for class False is now 0.70 (↑ from SMOTE’s 0.67 and baseline’s 0.68).\n",
        "\n",
        "Macro average F1 of 0.84 is the highest across all tested models, showing excellent balance.\n",
        "\n",
        "Precision and recall for the minority class are nearly symmetrical (0.71 vs. 0.69), indicating stable learning.\n",
        "\n",
        "High accuracy (95%) is maintained without sacrificing minority class detection.\n",
        "\n",
        "We think we can still do better"
      ]
    },
    {
      "cell_type": "markdown",
      "metadata": {},
      "source": [
        "## 6.5 DistilBERT Tranformer Pipeline Sentiment Classification"
      ]
    },
    {
      "cell_type": "markdown",
      "metadata": {},
      "source": [
        "              precision    recall  f1-score   support\n",
        "\n",
        "       False       0.32      0.77      0.45      5445\n",
        "        True       0.98      0.86      0.91     62546\n",
        "\n",
        "    accuracy                           0.85     67991\n",
        "   macro avg       0.65      0.81      0.68     67991\n",
        "weighted avg       0.92      0.85      0.88     67991\n"
      ]
    },
    {
      "cell_type": "markdown",
      "metadata": {},
      "source": [
        "Low precision for negative reviews (0.32):\n",
        "\n",
        "The model flags many false positives in the negative class — it struggles to confidently identify real negatives.\n",
        "\n",
        "High recall for negatives (0.77):\n",
        "\n",
        "When it does find a negative review, it catches a large portion of them.\n",
        "\n",
        "Positive class performance is strong:\n",
        "\n",
        "Very high precision (0.98) and decent recall (0.86).\n",
        "\n",
        "We have achieved a better recall but we see the precision for negative reviews significantly dropped"
      ]
    },
    {
      "cell_type": "markdown",
      "metadata": {},
      "source": [
        "## 6.6 FineTuned DistilBERT Sentiment Classification Model"
      ]
    },
    {
      "cell_type": "markdown",
      "metadata": {},
      "source": [
        "Evaluation results:\n",
        "\n",
        " {\n",
        "\n",
        "  \"negative\": {\n",
        "\n",
        "    \"precision\": 0.8348439073514602,\n",
        "\n",
        "    \"recall\": 0.7661737523105361,\n",
        "    \n",
        "    \"f1-score\": 0.7990361445783133,\n",
        "    \n",
        "    \"support\": 1082.0\n",
        "  },\n",
        "\n",
        "  \"positive\": {\n",
        "  \n",
        "    \"precision\": 0.9799301919720768,\n",
        "  \n",
        "    \"recall\": 0.986897818966206,\n",
        "  \n",
        "    \"f1-score\": 0.9834016638140349,\n",
        "  \n",
        "    \"support\": 12517.0\n",
        "  \n",
        "  },\n",
        "  \n",
        "  \"accuracy\": 0.9693359805868078,\n",
        "  \n",
        "  \"macro avg\": {\n",
        "  \n",
        "    \"precision\": 0.9073870496617684,\n",
        "  \n",
        "    \"recall\": 0.8765357856383711,\n",
        "  \n",
        "    \"f1-score\": 0.8912189041961741,\n",
        "  \n",
        "    \"support\": 13599.0\n",
        "  \n",
        "  },\n",
        "  \n",
        "  \"weighted avg\": {\n",
        "  \n",
        "    \"precision\": 0.9683864490527807,\n",
        "  \n",
        "    \"recall\": 0.9693359805868078,\n",
        "  \n",
        "    \"f1-score\": 0.9687326814026039,\n",
        "  \n",
        "    \"support\": 13599.0\n",
        "  \n",
        "  }\n",
        "\n",
        "}\n"
      ]
    },
    {
      "cell_type": "markdown",
      "metadata": {},
      "source": [
        "Balanced performance:\n",
        "\n",
        "Unlike earlier models, this version doesn’t neglect the minority class.\n",
        "\n",
        "Negative class recall: 76.6%, precision: 83.5% – this is strong for an imbalanced dataset.\n",
        "\n",
        "Excellent Positive Class Performance:\n",
        "\n",
        "Almost perfect: 98% precision, 99% recall.\n",
        "\n",
        "This makes the model very reliable in identifying positive reviews.\n",
        "\n",
        "Use of Weighted CrossEntropyLoss:\n",
        "\n",
        "Using class weights helped mitigate the class imbalance problem.\n",
        "\n",
        "Leads to higher macro average F1 (0.89) vs. 0.68 in previous pipeline version."
      ]
    },
    {
      "cell_type": "markdown",
      "metadata": {},
      "source": [
        "## 6.7 LLM to generate Summary per product"
      ]
    },
    {
      "cell_type": "markdown",
      "metadata": {},
      "source": [
        "We were able to get detailed and useful summary description of each product highlighting positive and negative sentiment for each."
      ]
    },
    {
      "cell_type": "markdown",
      "metadata": {},
      "source": [
        "Example The below is a report of a product summary that is saved in the csv of product_summaries.csv,"
      ]
    },
    {
      "cell_type": "markdown",
      "metadata": {},
      "source": [
        "\"All-New Fire 7 Tablet with Alexa, 7\"\" Display, 8 GB - Marine Blue\",\"Product: All-New Fire 7 Tablet with Alexa, 7\"\" Display, 8 GB - Marine Blue\n",
        "\n",
        "Reviews: 82, 👍 94%, 👎 6%\n",
        "\n",
        "Top Positive: \"\"I was shopping for a tablet for my mother. She uses her phone for games and social media, but she wanted a larger device, but wasnt interested in using features that may come with a much pricier tablet. This tablet is PERFECT for her. Battery lasts long, she can watch her shows, play games, and do social media while at her doctor appointments. It's light, durable, and a great price since she's on a fixed income. This tablet is so good, I'm still surprised at how good a price Best Buy had. Definitely recommend. I might even grab one myself!\"\"\n",
        "\n",
        "\n",
        "Top Negative: \"\"This is not the first kindle i buy, but the others were for my kids or gifted to kids so they broke at some point. This one was for me, i didn‚Äôt hurry to buy a cover as i am a veeery careful person. Well i was sorry to see the back (yes, the back) cracked within a month, no drop whatsoever, i keep it on my bedside table to read at night.\"\"\n",
        "\n",
        "Write a concise 1–2 sentence summary: key strength, main issue, and overall recommendation.\n",
        "\n",
        "The key strength of this tablet is its affordability and versatility, making it perfect for those on a fixed income or who want a larger device without breaking the bank. The main issue is the durability, with some users reporting cracks within a month of purchase. Overall, it is recommended for those who prioritize affordability and versatility over durability.\""
      ]
    },
    {
      "cell_type": "markdown",
      "metadata": {},
      "source": [
        "--\n",
        "As we see this is a very good report that a business owner or customer can use to understand the sentiment of a product"
      ]
    },
    {
      "cell_type": "markdown",
      "metadata": {},
      "source": [
        "## 6.x Conclusion"
      ]
    },
    {
      "cell_type": "markdown",
      "metadata": {},
      "source": [
        "We see that the Fine Tuned DistilBERT model with high level embeddings and that which uses weighted CrossEntropy loss has performed the best to accurately classify both negative and positive sentiment.\n",
        "\n",
        "The LLM generated report of each product contains highly useful information along with a summary of each product based on the sentiment of reviews of the product.\n",
        "\n",
        "**NEED TO FILL FOR OTHER MODEL**"
      ]
    },
    {
      "cell_type": "markdown",
      "metadata": {},
      "source": [
        "# 7. Deployment"
      ]
    },
    {
      "cell_type": "markdown",
      "metadata": {},
      "source": []
    },
    {
      "cell_type": "markdown",
      "metadata": {},
      "source": [
        "# 8 Discussion and Conclusions"
      ]
    },
    {
      "cell_type": "markdown",
      "metadata": {},
      "source": []
    }
  ],
  "metadata": {
    "accelerator": "GPU",
    "colab": {
      "gpuType": "A100",
      "machine_shape": "hm",
      "provenance": []
    },
    "kernelspec": {
      "display_name": "aai510-env",
      "language": "python",
      "name": "python3"
    },
    "language_info": {
      "codemirror_mode": {
        "name": "ipython",
        "version": 3
      },
      "file_extension": ".py",
      "mimetype": "text/x-python",
      "name": "python",
      "nbconvert_exporter": "python",
      "pygments_lexer": "ipython3",
      "version": "3.10.13"
    },
    "widgets": {
      "application/vnd.jupyter.widget-state+json": {
        "06d2327561d04565a2b82a5eabf575c8": {
          "model_module": "@jupyter-widgets/controls",
          "model_module_version": "1.5.0",
          "model_name": "DescriptionStyleModel",
          "state": {
            "_model_module": "@jupyter-widgets/controls",
            "_model_module_version": "1.5.0",
            "_model_name": "DescriptionStyleModel",
            "_view_count": null,
            "_view_module": "@jupyter-widgets/base",
            "_view_module_version": "1.2.0",
            "_view_name": "StyleView",
            "description_width": ""
          }
        },
        "0d687109c8eb41898314fcde5eee43bb": {
          "model_module": "@jupyter-widgets/controls",
          "model_module_version": "1.5.0",
          "model_name": "DescriptionStyleModel",
          "state": {
            "_model_module": "@jupyter-widgets/controls",
            "_model_module_version": "1.5.0",
            "_model_name": "DescriptionStyleModel",
            "_view_count": null,
            "_view_module": "@jupyter-widgets/base",
            "_view_module_version": "1.2.0",
            "_view_name": "StyleView",
            "description_width": ""
          }
        },
        "37387186be5240f8ba33f5b68049e06b": {
          "model_module": "@jupyter-widgets/controls",
          "model_module_version": "1.5.0",
          "model_name": "HTMLModel",
          "state": {
            "_dom_classes": [],
            "_model_module": "@jupyter-widgets/controls",
            "_model_module_version": "1.5.0",
            "_model_name": "HTMLModel",
            "_view_count": null,
            "_view_module": "@jupyter-widgets/controls",
            "_view_module_version": "1.5.0",
            "_view_name": "HTMLView",
            "description": "",
            "description_tooltip": null,
            "layout": "IPY_MODEL_86029982fb2b480f982cddee24de36c9",
            "placeholder": "​",
            "style": "IPY_MODEL_06d2327561d04565a2b82a5eabf575c8",
            "value": "model.safetensors: 100%"
          }
        },
        "423e77aea5844cfa9cd8d005914c26cc": {
          "model_module": "@jupyter-widgets/controls",
          "model_module_version": "1.5.0",
          "model_name": "ProgressStyleModel",
          "state": {
            "_model_module": "@jupyter-widgets/controls",
            "_model_module_version": "1.5.0",
            "_model_name": "ProgressStyleModel",
            "_view_count": null,
            "_view_module": "@jupyter-widgets/base",
            "_view_module_version": "1.2.0",
            "_view_name": "StyleView",
            "bar_color": null,
            "description_width": ""
          }
        },
        "6950d2d4fafd49c98bc3f33751034c01": {
          "model_module": "@jupyter-widgets/base",
          "model_module_version": "1.2.0",
          "model_name": "LayoutModel",
          "state": {
            "_model_module": "@jupyter-widgets/base",
            "_model_module_version": "1.2.0",
            "_model_name": "LayoutModel",
            "_view_count": null,
            "_view_module": "@jupyter-widgets/base",
            "_view_module_version": "1.2.0",
            "_view_name": "LayoutView",
            "align_content": null,
            "align_items": null,
            "align_self": null,
            "border": null,
            "bottom": null,
            "display": null,
            "flex": null,
            "flex_flow": null,
            "grid_area": null,
            "grid_auto_columns": null,
            "grid_auto_flow": null,
            "grid_auto_rows": null,
            "grid_column": null,
            "grid_gap": null,
            "grid_row": null,
            "grid_template_areas": null,
            "grid_template_columns": null,
            "grid_template_rows": null,
            "height": null,
            "justify_content": null,
            "justify_items": null,
            "left": null,
            "margin": null,
            "max_height": null,
            "max_width": null,
            "min_height": null,
            "min_width": null,
            "object_fit": null,
            "object_position": null,
            "order": null,
            "overflow": null,
            "overflow_x": null,
            "overflow_y": null,
            "padding": null,
            "right": null,
            "top": null,
            "visibility": null,
            "width": null
          }
        },
        "86029982fb2b480f982cddee24de36c9": {
          "model_module": "@jupyter-widgets/base",
          "model_module_version": "1.2.0",
          "model_name": "LayoutModel",
          "state": {
            "_model_module": "@jupyter-widgets/base",
            "_model_module_version": "1.2.0",
            "_model_name": "LayoutModel",
            "_view_count": null,
            "_view_module": "@jupyter-widgets/base",
            "_view_module_version": "1.2.0",
            "_view_name": "LayoutView",
            "align_content": null,
            "align_items": null,
            "align_self": null,
            "border": null,
            "bottom": null,
            "display": null,
            "flex": null,
            "flex_flow": null,
            "grid_area": null,
            "grid_auto_columns": null,
            "grid_auto_flow": null,
            "grid_auto_rows": null,
            "grid_column": null,
            "grid_gap": null,
            "grid_row": null,
            "grid_template_areas": null,
            "grid_template_columns": null,
            "grid_template_rows": null,
            "height": null,
            "justify_content": null,
            "justify_items": null,
            "left": null,
            "margin": null,
            "max_height": null,
            "max_width": null,
            "min_height": null,
            "min_width": null,
            "object_fit": null,
            "object_position": null,
            "order": null,
            "overflow": null,
            "overflow_x": null,
            "overflow_y": null,
            "padding": null,
            "right": null,
            "top": null,
            "visibility": null,
            "width": null
          }
        },
        "b1133a12297f41228265c0be53095cb1": {
          "model_module": "@jupyter-widgets/controls",
          "model_module_version": "1.5.0",
          "model_name": "FloatProgressModel",
          "state": {
            "_dom_classes": [],
            "_model_module": "@jupyter-widgets/controls",
            "_model_module_version": "1.5.0",
            "_model_name": "FloatProgressModel",
            "_view_count": null,
            "_view_module": "@jupyter-widgets/controls",
            "_view_module_version": "1.5.0",
            "_view_name": "ProgressView",
            "bar_style": "success",
            "description": "",
            "description_tooltip": null,
            "layout": "IPY_MODEL_ba5155b086464743a0ab206a29f3f87a",
            "max": 267954768,
            "min": 0,
            "orientation": "horizontal",
            "style": "IPY_MODEL_423e77aea5844cfa9cd8d005914c26cc",
            "value": 267954768
          }
        },
        "b6b2cf89be7b4f2cb4c37a700fce3178": {
          "model_module": "@jupyter-widgets/controls",
          "model_module_version": "1.5.0",
          "model_name": "HTMLModel",
          "state": {
            "_dom_classes": [],
            "_model_module": "@jupyter-widgets/controls",
            "_model_module_version": "1.5.0",
            "_model_name": "HTMLModel",
            "_view_count": null,
            "_view_module": "@jupyter-widgets/controls",
            "_view_module_version": "1.5.0",
            "_view_name": "HTMLView",
            "description": "",
            "description_tooltip": null,
            "layout": "IPY_MODEL_be9ca57d2b414cfca854fa1e1a640ed5",
            "placeholder": "​",
            "style": "IPY_MODEL_0d687109c8eb41898314fcde5eee43bb",
            "value": " 268M/268M [00:01&lt;00:00, 168MB/s]"
          }
        },
        "ba5155b086464743a0ab206a29f3f87a": {
          "model_module": "@jupyter-widgets/base",
          "model_module_version": "1.2.0",
          "model_name": "LayoutModel",
          "state": {
            "_model_module": "@jupyter-widgets/base",
            "_model_module_version": "1.2.0",
            "_model_name": "LayoutModel",
            "_view_count": null,
            "_view_module": "@jupyter-widgets/base",
            "_view_module_version": "1.2.0",
            "_view_name": "LayoutView",
            "align_content": null,
            "align_items": null,
            "align_self": null,
            "border": null,
            "bottom": null,
            "display": null,
            "flex": null,
            "flex_flow": null,
            "grid_area": null,
            "grid_auto_columns": null,
            "grid_auto_flow": null,
            "grid_auto_rows": null,
            "grid_column": null,
            "grid_gap": null,
            "grid_row": null,
            "grid_template_areas": null,
            "grid_template_columns": null,
            "grid_template_rows": null,
            "height": null,
            "justify_content": null,
            "justify_items": null,
            "left": null,
            "margin": null,
            "max_height": null,
            "max_width": null,
            "min_height": null,
            "min_width": null,
            "object_fit": null,
            "object_position": null,
            "order": null,
            "overflow": null,
            "overflow_x": null,
            "overflow_y": null,
            "padding": null,
            "right": null,
            "top": null,
            "visibility": null,
            "width": null
          }
        },
        "be9ca57d2b414cfca854fa1e1a640ed5": {
          "model_module": "@jupyter-widgets/base",
          "model_module_version": "1.2.0",
          "model_name": "LayoutModel",
          "state": {
            "_model_module": "@jupyter-widgets/base",
            "_model_module_version": "1.2.0",
            "_model_name": "LayoutModel",
            "_view_count": null,
            "_view_module": "@jupyter-widgets/base",
            "_view_module_version": "1.2.0",
            "_view_name": "LayoutView",
            "align_content": null,
            "align_items": null,
            "align_self": null,
            "border": null,
            "bottom": null,
            "display": null,
            "flex": null,
            "flex_flow": null,
            "grid_area": null,
            "grid_auto_columns": null,
            "grid_auto_flow": null,
            "grid_auto_rows": null,
            "grid_column": null,
            "grid_gap": null,
            "grid_row": null,
            "grid_template_areas": null,
            "grid_template_columns": null,
            "grid_template_rows": null,
            "height": null,
            "justify_content": null,
            "justify_items": null,
            "left": null,
            "margin": null,
            "max_height": null,
            "max_width": null,
            "min_height": null,
            "min_width": null,
            "object_fit": null,
            "object_position": null,
            "order": null,
            "overflow": null,
            "overflow_x": null,
            "overflow_y": null,
            "padding": null,
            "right": null,
            "top": null,
            "visibility": null,
            "width": null
          }
        },
        "d4fc1f58165e4d7d8cbaae2ae29dc617": {
          "model_module": "@jupyter-widgets/controls",
          "model_module_version": "1.5.0",
          "model_name": "HBoxModel",
          "state": {
            "_dom_classes": [],
            "_model_module": "@jupyter-widgets/controls",
            "_model_module_version": "1.5.0",
            "_model_name": "HBoxModel",
            "_view_count": null,
            "_view_module": "@jupyter-widgets/controls",
            "_view_module_version": "1.5.0",
            "_view_name": "HBoxView",
            "box_style": "",
            "children": [
              "IPY_MODEL_37387186be5240f8ba33f5b68049e06b",
              "IPY_MODEL_b1133a12297f41228265c0be53095cb1",
              "IPY_MODEL_b6b2cf89be7b4f2cb4c37a700fce3178"
            ],
            "layout": "IPY_MODEL_6950d2d4fafd49c98bc3f33751034c01"
          }
        }
      }
    }
  },
  "nbformat": 4,
  "nbformat_minor": 0
}
