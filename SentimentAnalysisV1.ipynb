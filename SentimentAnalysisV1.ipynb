{
 "cells": [
  {
   "cell_type": "markdown",
   "metadata": {},
   "source": [
    "##### Goals:\n",
    " *  Classify the review comments into Positive or Negative\n",
    " *  Sentiment Analysis\n",
    " "
   ]
  },
  {
   "cell_type": "markdown",
   "metadata": {},
   "source": [
    "#### Data Preparation"
   ]
  },
  {
   "cell_type": "code",
   "execution_count": 1,
   "metadata": {},
   "outputs": [
    {
     "name": "stderr",
     "output_type": "stream",
     "text": [
      "/Library/Frameworks/Python.framework/Versions/3.9/lib/python3.9/site-packages/tqdm/auto.py:21: TqdmWarning: IProgress not found. Please update jupyter and ipywidgets. See https://ipywidgets.readthedocs.io/en/stable/user_install.html\n",
      "  from .autonotebook import tqdm as notebook_tqdm\n"
     ]
    }
   ],
   "source": [
    "import pandas as pd\n",
    "import numpy as np\n",
    "from bertopic import BERTopic\n",
    "from sklearn.cluster import KMeans\n",
    "from sklearn.feature_extraction.text import CountVectorizer\n",
    "from sklearn.decomposition import PCA\n",
    "from sentence_transformers import SentenceTransformer\n",
    "import seaborn as sns # Seaborn for visualizing. Note: we will also use one of the data sets\n",
    "import matplotlib.pyplot as plt # Matplotlib for subplots\n",
    "%matplotlib inline\n",
    "\n",
    "from sklearn.cluster import KMeans\n",
    "from sklearn.preprocessing import StandardScaler # Import for feature standardization\n",
    "from sklearn.metrics import silhouette_samples, silhouette_score # For kmeans evaluation\n",
    "from sklearn.datasets import load_wine # Used to pull in wine data"
   ]
  },
  {
   "cell_type": "code",
   "execution_count": null,
   "metadata": {},
   "outputs": [],
   "source": [
    "###Import Data \n",
    "### Note:  Data is in the zip. Extract it to the folder data\n",
    "review_df=pd.read_csv(\"./data/amazon_reviews.csv\")"
   ]
  },
  {
   "cell_type": "code",
   "execution_count": null,
   "metadata": {},
   "outputs": [
    {
     "data": {
      "text/plain": [
       "asins                object\n",
       "reviews.rating      float64\n",
       "name                 object\n",
       "brand                object\n",
       "categories           object\n",
       "reviews.text         object\n",
       "reviews.title        object\n",
       "reviews.username     object\n",
       "dtype: object"
      ]
     },
     "execution_count": 99,
     "metadata": {},
     "output_type": "execute_result"
    }
   ],
   "source": [
    "### Feature Name and Data Type in the Input Data\n",
    "review_df.dtypes"
   ]
  },
  {
   "cell_type": "code",
   "execution_count": null,
   "metadata": {},
   "outputs": [
    {
     "data": {
      "text/html": [
       "<div>\n",
       "<style scoped>\n",
       "    .dataframe tbody tr th:only-of-type {\n",
       "        vertical-align: middle;\n",
       "    }\n",
       "\n",
       "    .dataframe tbody tr th {\n",
       "        vertical-align: top;\n",
       "    }\n",
       "\n",
       "    .dataframe thead th {\n",
       "        text-align: right;\n",
       "    }\n",
       "</style>\n",
       "<table border=\"1\" class=\"dataframe\">\n",
       "  <thead>\n",
       "    <tr style=\"text-align: right;\">\n",
       "      <th></th>\n",
       "      <th>asins</th>\n",
       "      <th>reviews.rating</th>\n",
       "      <th>name</th>\n",
       "      <th>brand</th>\n",
       "      <th>categories</th>\n",
       "      <th>reviews.text</th>\n",
       "      <th>reviews.title</th>\n",
       "      <th>reviews.username</th>\n",
       "    </tr>\n",
       "  </thead>\n",
       "  <tbody>\n",
       "    <tr>\n",
       "      <th>0</th>\n",
       "      <td>B00QWO9P0O,B00LH3DMUO</td>\n",
       "      <td>3.0</td>\n",
       "      <td>AmazonBasics AAA Performance Alkaline Batterie...</td>\n",
       "      <td>Amazonbasics</td>\n",
       "      <td>AA,AAA,Health,Electronics,Health &amp; Household,C...</td>\n",
       "      <td>I order 3 of them and one of the item is bad q...</td>\n",
       "      <td>... 3 of them and one of the item is bad quali...</td>\n",
       "      <td>Byger yang</td>\n",
       "    </tr>\n",
       "    <tr>\n",
       "      <th>1</th>\n",
       "      <td>B00QWO9P0O,B00LH3DMUO</td>\n",
       "      <td>4.0</td>\n",
       "      <td>AmazonBasics AAA Performance Alkaline Batterie...</td>\n",
       "      <td>Amazonbasics</td>\n",
       "      <td>AA,AAA,Health,Electronics,Health &amp; Household,C...</td>\n",
       "      <td>Bulk is always the less expensive way to go fo...</td>\n",
       "      <td>... always the less expensive way to go for pr...</td>\n",
       "      <td>ByMG</td>\n",
       "    </tr>\n",
       "    <tr>\n",
       "      <th>2</th>\n",
       "      <td>B00QWO9P0O,B00LH3DMUO</td>\n",
       "      <td>5.0</td>\n",
       "      <td>AmazonBasics AAA Performance Alkaline Batterie...</td>\n",
       "      <td>Amazonbasics</td>\n",
       "      <td>AA,AAA,Health,Electronics,Health &amp; Household,C...</td>\n",
       "      <td>Well they are not Duracell but for the price i...</td>\n",
       "      <td>... are not Duracell but for the price i am ha...</td>\n",
       "      <td>BySharon Lambert</td>\n",
       "    </tr>\n",
       "    <tr>\n",
       "      <th>3</th>\n",
       "      <td>B00QWO9P0O,B00LH3DMUO</td>\n",
       "      <td>5.0</td>\n",
       "      <td>AmazonBasics AAA Performance Alkaline Batterie...</td>\n",
       "      <td>Amazonbasics</td>\n",
       "      <td>AA,AAA,Health,Electronics,Health &amp; Household,C...</td>\n",
       "      <td>Seem to work as well as name brand batteries a...</td>\n",
       "      <td>... as well as name brand batteries at a much ...</td>\n",
       "      <td>Bymark sexson</td>\n",
       "    </tr>\n",
       "    <tr>\n",
       "      <th>4</th>\n",
       "      <td>B00QWO9P0O,B00LH3DMUO</td>\n",
       "      <td>5.0</td>\n",
       "      <td>AmazonBasics AAA Performance Alkaline Batterie...</td>\n",
       "      <td>Amazonbasics</td>\n",
       "      <td>AA,AAA,Health,Electronics,Health &amp; Household,C...</td>\n",
       "      <td>These batteries are very long lasting the pric...</td>\n",
       "      <td>... batteries are very long lasting the price ...</td>\n",
       "      <td>Bylinda</td>\n",
       "    </tr>\n",
       "  </tbody>\n",
       "</table>\n",
       "</div>"
      ],
      "text/plain": [
       "                   asins  reviews.rating  \\\n",
       "0  B00QWO9P0O,B00LH3DMUO             3.0   \n",
       "1  B00QWO9P0O,B00LH3DMUO             4.0   \n",
       "2  B00QWO9P0O,B00LH3DMUO             5.0   \n",
       "3  B00QWO9P0O,B00LH3DMUO             5.0   \n",
       "4  B00QWO9P0O,B00LH3DMUO             5.0   \n",
       "\n",
       "                                                name         brand  \\\n",
       "0  AmazonBasics AAA Performance Alkaline Batterie...  Amazonbasics   \n",
       "1  AmazonBasics AAA Performance Alkaline Batterie...  Amazonbasics   \n",
       "2  AmazonBasics AAA Performance Alkaline Batterie...  Amazonbasics   \n",
       "3  AmazonBasics AAA Performance Alkaline Batterie...  Amazonbasics   \n",
       "4  AmazonBasics AAA Performance Alkaline Batterie...  Amazonbasics   \n",
       "\n",
       "                                          categories  \\\n",
       "0  AA,AAA,Health,Electronics,Health & Household,C...   \n",
       "1  AA,AAA,Health,Electronics,Health & Household,C...   \n",
       "2  AA,AAA,Health,Electronics,Health & Household,C...   \n",
       "3  AA,AAA,Health,Electronics,Health & Household,C...   \n",
       "4  AA,AAA,Health,Electronics,Health & Household,C...   \n",
       "\n",
       "                                        reviews.text  \\\n",
       "0  I order 3 of them and one of the item is bad q...   \n",
       "1  Bulk is always the less expensive way to go fo...   \n",
       "2  Well they are not Duracell but for the price i...   \n",
       "3  Seem to work as well as name brand batteries a...   \n",
       "4  These batteries are very long lasting the pric...   \n",
       "\n",
       "                                       reviews.title  reviews.username  \n",
       "0  ... 3 of them and one of the item is bad quali...        Byger yang  \n",
       "1  ... always the less expensive way to go for pr...              ByMG  \n",
       "2  ... are not Duracell but for the price i am ha...  BySharon Lambert  \n",
       "3  ... as well as name brand batteries at a much ...     Bymark sexson  \n",
       "4  ... batteries are very long lasting the price ...           Bylinda  "
      ]
     },
     "execution_count": 102,
     "metadata": {},
     "output_type": "execute_result"
    }
   ],
   "source": [
    "### Sample Data \n",
    "review_df.head(5)"
   ]
  },
  {
   "cell_type": "code",
   "execution_count": null,
   "metadata": {},
   "outputs": [],
   "source": [
    "#### Removed Nulls\n",
    "review_df_cleaned=review_df[~review_df['reviews.text'].isnull()].copy()"
   ]
  },
  {
   "cell_type": "code",
   "execution_count": null,
   "metadata": {},
   "outputs": [],
   "source": [
    "#Removed reviews with more than > 400 words  due to token limitation of Sentence Transformers and computing\n",
    "review_df_cleaned['token_count'] = review_df_cleaned['reviews.text'].apply(lambda x: len(x.split()))\n",
    "review_df_cleaned=review_df_cleaned[review_df_cleaned['token_count']<=400]"
   ]
  },
  {
   "cell_type": "markdown",
   "metadata": {},
   "source": [
    "#### Visualization "
   ]
  },
  {
   "cell_type": "code",
   "execution_count": null,
   "metadata": {},
   "outputs": [
    {
     "data": {
      "image/png": "[encoded data removed]",
      "text/plain": [
       "<Figure size 640x480 with 1 Axes>"
      ]
     },
     "metadata": {},
     "output_type": "display_data"
    }
   ],
   "source": [
    "plt.hist(review_df_cleaned['reviews.rating'],color='skyblue')\n",
    "plt.xlabel('Review Score')\n",
    "plt.ylabel('Count')\n",
    "plt.title('Distribution of Review Score for all products')\n",
    "plt.show()"
   ]
  },
  {
   "cell_type": "code",
   "execution_count": null,
   "metadata": {},
   "outputs": [
    {
     "data": {
      "image/png": "[encoded data removed]",
      "text/plain": [
       "<Figure size 640x480 with 1 Axes>"
      ]
     },
     "metadata": {},
     "output_type": "display_data"
    }
   ],
   "source": [
    "review_df_cleaned['review_sentiment']=review_df_cleaned['reviews.rating']>3\n",
    "# Count True/False\n",
    "counts = review_df_cleaned['review_sentiment'].value_counts().sort_index() \n",
    "\n",
    "# Plot as bar chart\n",
    "counts.plot(kind='bar', color=['skyblue', 'orange'])\n",
    "plt.xticks(ticks=[0,1],rotation=0,labels=['Negative','Positive'])\n",
    "plt.xlabel('Review Sentiment')\n",
    "plt.ylabel('Count')\n",
    "plt.title('Distribution of Sentiment from All reviews')\n",
    "plt.show()"
   ]
  },
  {
   "cell_type": "code",
   "execution_count": 139,
   "metadata": {},
   "outputs": [],
   "source": [
    "review_df_cleaned['reviews.text'].values.shape\n",
    "docs = review_df_cleaned['reviews.text'].values\n",
    "# Use a pre-trained BERT model for embeddings"
   ]
  },
  {
   "cell_type": "markdown",
   "metadata": {},
   "source": [
    "### Classification (Supervised)\n",
    "* Reviews converted into Text Embeddings and used as input feature\n",
    "* Review Score is converted to Binary Feature. \n",
    "    * Review score > 3.0 is treated as Positive\n",
    "    * Review score <= 3.0 is treated as Positive"
   ]
  },
  {
   "cell_type": "code",
   "execution_count": null,
   "metadata": {},
   "outputs": [],
   "source": [
    "#### Generate Text Embeddings \n",
    "model = SentenceTransformer('all-MiniLM-L6-v2')\n",
    "embeddings = model.encode(review_df_cleaned['reviews.text'].values)\n"
   ]
  },
  {
   "cell_type": "code",
   "execution_count": 150,
   "metadata": {},
   "outputs": [],
   "source": [
    "from sklearn.linear_model import LogisticRegression\n",
    "from sklearn.model_selection import train_test_split\n",
    "from sklearn.metrics import classification_report\n",
    "\n",
    "\n",
    "X = embeddings\n",
    "y = review_df_cleaned['review_sentiment']\n",
    "\n",
    "\n",
    "# Split into train and test sets\n",
    "X_train, X_test, y_train, y_test = train_test_split(X, y, test_size=0.3, random_state=42)\n"
   ]
  },
  {
   "cell_type": "code",
   "execution_count": 151,
   "metadata": {},
   "outputs": [
    {
     "data": {
      "image/png": "[encoded data removed]",
      "text/plain": [
       "<Figure size 640x480 with 1 Axes>"
      ]
     },
     "metadata": {},
     "output_type": "display_data"
    }
   ],
   "source": [
    "data = {'feature': y_train}\n",
    "df = pd.DataFrame(data)\n",
    "\n",
    "# Count True/False\n",
    "counts = df['feature'].value_counts().sort_index()  # False comes first by default\n",
    "\n",
    "# Plot as bar chart\n",
    "counts.plot(kind='bar', color=['skyblue', 'orange'])\n",
    "plt.xticks(ticks=[0, 1], labels=['Negative', 'Positive'], rotation=0)\n",
    "plt.xlabel('Feature Value')\n",
    "plt.ylabel('Count')\n",
    "plt.title('Distribution of Reviews in Train Data')\n",
    "plt.show()"
   ]
  },
  {
   "cell_type": "code",
   "execution_count": 152,
   "metadata": {},
   "outputs": [
    {
     "data": {
      "image/png": "[encoded data removed]",
      "text/plain": [
       "<Figure size 640x480 with 1 Axes>"
      ]
     },
     "metadata": {},
     "output_type": "display_data"
    }
   ],
   "source": [
    "data = {'feature': y_test}\n",
    "df = pd.DataFrame(data)\n",
    "\n",
    "# Count True/False\n",
    "counts = df['feature'].value_counts().sort_index()  # False comes first by default\n",
    "\n",
    "# Plot as bar chart\n",
    "counts.plot(kind='bar', color=['skyblue', 'orange'])\n",
    "plt.xticks(ticks=[0, 1], labels=['Negative', 'Positive'], rotation=0)\n",
    "plt.xlabel('Feature Value')\n",
    "plt.ylabel('Count')\n",
    "plt.title('Distribution of Reviews in Test Data')\n",
    "plt.show()"
   ]
  },
  {
   "cell_type": "code",
   "execution_count": 153,
   "metadata": {},
   "outputs": [
    {
     "name": "stdout",
     "output_type": "stream",
     "text": [
      "              precision    recall  f1-score   support\n",
      "\n",
      "       False       0.78      0.31      0.44      1659\n",
      "        True       0.94      0.99      0.97     18723\n",
      "\n",
      "    accuracy                           0.94     20382\n",
      "   macro avg       0.86      0.65      0.70     20382\n",
      "weighted avg       0.93      0.94      0.92     20382\n",
      "\n"
     ]
    }
   ],
   "source": [
    "\n",
    "# Create and train logistic regression model\n",
    "model = LogisticRegression()\n",
    "model.fit(X_train, y_train)\n",
    "\n",
    "# Predict and print classification metrics\n",
    "y_pred = model.predict(X_test)\n",
    "print(classification_report(y_test, y_pred))\n"
   ]
  },
  {
   "cell_type": "code",
   "execution_count": 138,
   "metadata": {},
   "outputs": [
    {
     "name": "stdout",
     "output_type": "stream",
     "text": [
      "              precision    recall  f1-score   support\n",
      "\n",
      "       False       0.88      0.53      0.66      1659\n",
      "        True       0.96      0.99      0.98     18723\n",
      "\n",
      "    accuracy                           0.96     20382\n",
      "   macro avg       0.92      0.76      0.82     20382\n",
      "weighted avg       0.95      0.96      0.95     20382\n",
      "\n"
     ]
    }
   ],
   "source": [
    "import xgboost as xgb\n",
    "# Create and train XGBoost classifier\n",
    "model = xgb.XGBClassifier(use_label_encoder=False)\n",
    "model.fit(X_train, y_train)\n",
    "\n",
    "# Predict and print metrics\n",
    "y_pred = model.predict(X_test)\n",
    "print(classification_report(y_test, y_pred))"
   ]
  },
  {
   "cell_type": "markdown",
   "metadata": {},
   "source": [
    "* Oversampling using SMOTE to make the training set balanced"
   ]
  },
  {
   "cell_type": "code",
   "execution_count": null,
   "metadata": {},
   "outputs": [
    {
     "name": "stdout",
     "output_type": "stream",
     "text": [
      "              precision    recall  f1-score   support\n",
      "\n",
      "       False       0.64      0.67      0.65      1659\n",
      "        True       0.97      0.97      0.97     18723\n",
      "\n",
      "    accuracy                           0.94     20382\n",
      "   macro avg       0.80      0.82      0.81     20382\n",
      "weighted avg       0.94      0.94      0.94     20382\n",
      "\n"
     ]
    }
   ],
   "source": [
    "from imblearn.over_sampling import SMOTE\n",
    "sm = SMOTE(random_state=42)\n",
    "X_resampled, y_resampled = sm.fit_resample(X_train, y_train)\n",
    "\n",
    "# Create and train XGBoost classifier\n",
    "model = xgb.XGBClassifier(use_label_encoder=False)\n",
    "model.fit(X_resampled, y_resampled)\n",
    "print()\n",
    "\n",
    "# Predict and print metrics\n",
    "y_pred = model.predict(X_test)\n",
    "print(classification_report(y_test, y_pred))"
   ]
  },
  {
   "cell_type": "code",
   "execution_count": 161,
   "metadata": {},
   "outputs": [
    {
     "data": {
      "text/plain": [
       "review_sentiment\n",
       "True     62499\n",
       "False     5441\n",
       "Name: count, dtype: int64"
      ]
     },
     "execution_count": 161,
     "metadata": {},
     "output_type": "execute_result"
    }
   ],
   "source": [
    "review_df_cleaned['review_sentiment'].value_counts()"
   ]
  },
  {
   "cell_type": "code",
   "execution_count": 162,
   "metadata": {},
   "outputs": [
    {
     "name": "stdout",
     "output_type": "stream",
     "text": [
      "              precision    recall  f1-score   support\n",
      "\n",
      "       False       0.69      0.66      0.68      1659\n",
      "        True       0.97      0.97      0.97     18723\n",
      "\n",
      "    accuracy                           0.95     20382\n",
      "   macro avg       0.83      0.82      0.82     20382\n",
      "weighted avg       0.95      0.95      0.95     20382\n",
      "\n"
     ]
    }
   ],
   "source": [
    "import xgboost as xgb\n",
    "\n",
    "# Compute scale_pos_weight = (# negative samples) / (# positive samples)\n",
    "ratio=review_df_cleaned['review_sentiment'].value_counts()[1]/review_df_cleaned['review_sentiment'].value_counts()[0]\n",
    "model = xgb.XGBClassifier(scale_pos_weight=ratio, use_label_encoder=False, eval_metric='logloss')\n",
    "model.fit(X_train, y_train)\n",
    "\n",
    "# Predict and print metrics\n",
    "y_pred = model.predict(X_test)\n",
    "print(classification_report(y_test, y_pred))"
   ]
  },
  {
   "cell_type": "markdown",
   "metadata": {},
   "source": [
    "#### Observation\n",
    "* Baseline Model: Logistic Regression \n",
    "    * A simple logistic regression shows the 94% precision , 99% recall and 97% F1 Score fore the Positive Reviews. \n",
    "    * The model has 78% precision , 31% recall and 44% F1 Score fore the Negative Reviews. \n",
    "* With same data XGBoost performs better. The model has 88% precision , 53% recall and 66% F1 Score fore the Negative Reviews. \n",
    "\n",
    "* Since the data is imbalanced, both models behaves better in Positive and not able to generalize. This can be improved by training the date with balanced data "
   ]
  },
  {
   "cell_type": "markdown",
   "metadata": {},
   "source": [
    "#### Classification (Unsupervised)"
   ]
  },
  {
   "cell_type": "code",
   "execution_count": 140,
   "metadata": {},
   "outputs": [
    {
     "name": "stderr",
     "output_type": "stream",
     "text": [
      "No model was supplied, defaulted to distilbert/distilbert-base-uncased-finetuned-sst-2-english and revision 714eb0f (https://huggingface.co/distilbert/distilbert-base-uncased-finetuned-sst-2-english).\n",
      "Using a pipeline without specifying a model name and revision in production is not recommended.\n",
      "Hardware accelerator e.g. GPU is available in the environment, but no `device` argument is passed to the `Pipeline` object. Model will be on CPU.\n"
     ]
    }
   ],
   "source": [
    "from transformers import pipeline\n",
    "\n",
    "# Load sentiment analysis pipeline\n",
    "sentiment_pipeline = pipeline(\"sentiment-analysis\")\n",
    "\n",
    "# Input text\n",
    "texts = docs.tolist()\n",
    "\n",
    "# Run sentiment analysis\n",
    "results = sentiment_pipeline(texts)\n",
    "\n",
    "# Print results\n",
    "labels=[]\n",
    "scores=[]\n",
    "for result in results:\n",
    "    labels.append(result['label'])\n",
    "    scores.append(result['score'])\n"
   ]
  },
  {
   "cell_type": "code",
   "execution_count": 148,
   "metadata": {},
   "outputs": [],
   "source": [
    "review_df_cleaned['Predicted']=[label=='POSITIVE' for label in labels]"
   ]
  },
  {
   "cell_type": "code",
   "execution_count": 149,
   "metadata": {},
   "outputs": [
    {
     "name": "stdout",
     "output_type": "stream",
     "text": [
      "              precision    recall  f1-score   support\n",
      "\n",
      "       False       0.32      0.77      0.45      5441\n",
      "        True       0.98      0.86      0.91     62499\n",
      "\n",
      "    accuracy                           0.85     67940\n",
      "   macro avg       0.65      0.81      0.68     67940\n",
      "weighted avg       0.92      0.85      0.88     67940\n",
      "\n"
     ]
    }
   ],
   "source": [
    "from sklearn.metrics import classification_report\n",
    "report = classification_report(review_df_cleaned['review_sentiment'], review_df_cleaned['Predicted'])\n",
    "print(report)"
   ]
  },
  {
   "cell_type": "markdown",
   "metadata": {},
   "source": [
    "#### Observation\n",
    "* We used transformer pipeline ,which uses  DistilBert embeddings and classification for sentiment analysis. The reviews are classified as POSITIVE and NEGATIVE. \n",
    "* We compared the results of the classifier against the review score \n",
    "* The results show the unsupervised classification is in par to the baseline supervised classification with the 98% precision , 86% recall and 91% F1 Score fore the Positive Reviews. \n",
    "    * The model has 32% precision , 77% recall and 45% F1 Score fore the Negative Reviews. \n",
    "* The results can be improved with better model in higher embedding dimension"
   ]
  }
 ],
 "metadata": {
  "kernelspec": {
   "display_name": "Python 3",
   "language": "python",
   "name": "python3"
  },
  "language_info": {
   "codemirror_mode": {
    "name": "ipython",
    "version": 3
   },
   "file_extension": ".py",
   "mimetype": "text/x-python",
   "name": "python",
   "nbconvert_exporter": "python",
   "pygments_lexer": "ipython3",
   "version": "3.9.8"
  }
 },
 "nbformat": 4,
 "nbformat_minor": 2
}
